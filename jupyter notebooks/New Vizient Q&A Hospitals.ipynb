{
 "cells": [
  {
   "cell_type": "code",
   "execution_count": 181,
   "metadata": {},
   "outputs": [],
   "source": [
    "import pandas as pd\n",
    "import numpy as np\n",
    "import os\n",
    "import openpyxl\n",
    "import pyodbc"
   ]
  },
  {
   "cell_type": "markdown",
   "metadata": {},
   "source": [
    "### Jupyter Notebook tool to help update the NM_Analytics_Prototype.vizient_qa.hospitals table for each Vizient Q&A period release.  Sometimes Vizient will add/lose member hospitals, sometimes hospitals change their name, sometimes hospitals change cohort (less likely).  This tool will help you identify which hospitals we need to be UPDATED or INSERTED.\n",
    "\n",
    "#NOTE ABOUT RE-COHORTING:  IN 2021, 2022, NORTHWESTERN_KISH AND NORTHWESTERN_HUNTLEY WERE OFFICIALLY PUT IN THE VIZIENT COMMUNITY COHORT.\n",
    "#NORTHWESTERN QUALITY LEADERS WANT TO TRACK CCMC MEASURES.  THEREFORE, WE ARE MANUALLY MOVING\n",
    "#KISH AND HUNTLEY TO THE CCMC COHORT.  THEREFORE, KISH AND HUNTLEY MAY APPEAR IN THE BELOW OUTPUT.  YOU SHOULD IGNORE IF\n",
    "#KISH AND HUNTLEY ARE CORRECTLY ASSIGNED PER NM QUALITY.  THIS SITUATION MAY CHANGE IN THE FUTURE BUT, AS OF FY23, IT WAS THE CASE."
   ]
  },
  {
   "cell_type": "code",
   "execution_count": 182,
   "metadata": {},
   "outputs": [],
   "source": [
    "def grab_cohort_worksheet_sheet(path_obj,file_obj,sheetname):\n",
    "    file_loc = os.path.abspath(os.path.join(path_obj,file_obj))\n",
    "    wb = openpyxl.load_workbook(file_loc, data_only = True)\n",
    "    ws = wb[sheetname]\n",
    "    return(ws)"
   ]
  },
  {
   "cell_type": "code",
   "execution_count": 183,
   "metadata": {},
   "outputs": [],
   "source": [
    "filepath = r'P:\\Datastore02\\Analytics\\230 Inpatient Quality Composite\\data\\cohort data\\2023\\calc_3_cohorts'\n",
    "filename = 'Period3_QA_2023_Cohorts.xlsx'\n",
    "sheet = '2023 Period3 Q&A Cohorts'"
   ]
  },
  {
   "cell_type": "code",
   "execution_count": 184,
   "metadata": {},
   "outputs": [
    {
     "name": "stderr",
     "output_type": "stream",
     "text": [
      "C:\\Python\\envs\\py36env\\lib\\site-packages\\openpyxl\\reader\\drawings.py:59: UserWarning: wmf image format is not supported so the image is being dropped\n",
      "  warn(msg)\n"
     ]
    }
   ],
   "source": [
    "cohort_ws = grab_cohort_worksheet_sheet(filepath, filename,sheet)"
   ]
  },
  {
   "cell_type": "code",
   "execution_count": 185,
   "metadata": {},
   "outputs": [],
   "source": [
    "df = pd.DataFrame(cohort_ws.values)"
   ]
  },
  {
   "cell_type": "code",
   "execution_count": 186,
   "metadata": {},
   "outputs": [],
   "source": [
    "#rename column headers using the 'Domain' header row coordinates\n",
    "df = df.rename(columns=df.iloc[0])"
   ]
  },
  {
   "cell_type": "code",
   "execution_count": 187,
   "metadata": {},
   "outputs": [],
   "source": [
    "df = df.drop([0])"
   ]
  },
  {
   "cell_type": "code",
   "execution_count": 188,
   "metadata": {},
   "outputs": [],
   "source": [
    "df = df[['Medicare ID','Short name', 'Cohort']]"
   ]
  },
  {
   "cell_type": "code",
   "execution_count": 189,
   "metadata": {},
   "outputs": [
    {
     "data": {
      "text/html": [
       "<div>\n",
       "<style scoped>\n",
       "    .dataframe tbody tr th:only-of-type {\n",
       "        vertical-align: middle;\n",
       "    }\n",
       "\n",
       "    .dataframe tbody tr th {\n",
       "        vertical-align: top;\n",
       "    }\n",
       "\n",
       "    .dataframe thead th {\n",
       "        text-align: right;\n",
       "    }\n",
       "</style>\n",
       "<table border=\"1\" class=\"dataframe\">\n",
       "  <thead>\n",
       "    <tr style=\"text-align: right;\">\n",
       "      <th></th>\n",
       "      <th>Medicare ID</th>\n",
       "      <th>Short name</th>\n",
       "      <th>Cohort</th>\n",
       "    </tr>\n",
       "  </thead>\n",
       "  <tbody>\n",
       "    <tr>\n",
       "      <th>1</th>\n",
       "      <td>010033</td>\n",
       "      <td>ALABAMA</td>\n",
       "      <td>Comprehensive Academic Medical Center</td>\n",
       "    </tr>\n",
       "    <tr>\n",
       "      <th>2</th>\n",
       "      <td>030002</td>\n",
       "      <td>BANNERHEALTH_PHOENIX</td>\n",
       "      <td>Comprehensive Academic Medical Center</td>\n",
       "    </tr>\n",
       "    <tr>\n",
       "      <th>3</th>\n",
       "      <td>030064</td>\n",
       "      <td>BANNERHEALTH_ARIZONA</td>\n",
       "      <td>Comprehensive Academic Medical Center</td>\n",
       "    </tr>\n",
       "    <tr>\n",
       "      <th>4</th>\n",
       "      <td>040016</td>\n",
       "      <td>ARKANSAS</td>\n",
       "      <td>Comprehensive Academic Medical Center</td>\n",
       "    </tr>\n",
       "    <tr>\n",
       "      <th>5</th>\n",
       "      <td>050025</td>\n",
       "      <td>UCSD</td>\n",
       "      <td>Comprehensive Academic Medical Center</td>\n",
       "    </tr>\n",
       "  </tbody>\n",
       "</table>\n",
       "</div>"
      ],
      "text/plain": [
       "  Medicare ID            Short name                                 Cohort\n",
       "1      010033               ALABAMA  Comprehensive Academic Medical Center\n",
       "2      030002  BANNERHEALTH_PHOENIX  Comprehensive Academic Medical Center\n",
       "3      030064  BANNERHEALTH_ARIZONA  Comprehensive Academic Medical Center\n",
       "4      040016              ARKANSAS  Comprehensive Academic Medical Center\n",
       "5      050025                  UCSD  Comprehensive Academic Medical Center"
      ]
     },
     "execution_count": 189,
     "metadata": {},
     "output_type": "execute_result"
    }
   ],
   "source": [
    "df.head()"
   ]
  },
  {
   "cell_type": "markdown",
   "metadata": {},
   "source": [
    "### Same thing for Critical Access Hospitals Worksheet  (when this script was written, the critical access cohort hospitals were listed on a separate sheet.  This may change later."
   ]
  },
  {
   "cell_type": "code",
   "execution_count": 190,
   "metadata": {},
   "outputs": [
    {
     "name": "stderr",
     "output_type": "stream",
     "text": [
      "C:\\Python\\envs\\py36env\\lib\\site-packages\\openpyxl\\reader\\drawings.py:59: UserWarning: wmf image format is not supported so the image is being dropped\n",
      "  warn(msg)\n"
     ]
    }
   ],
   "source": [
    "ca_sheet = 'Crit Acc. & Small Comm'\n",
    "ca_cohort_ws = grab_cohort_worksheet_sheet(filepath, filename,ca_sheet)"
   ]
  },
  {
   "cell_type": "code",
   "execution_count": 191,
   "metadata": {},
   "outputs": [],
   "source": [
    "ca_df = pd.DataFrame(ca_cohort_ws.values)"
   ]
  },
  {
   "cell_type": "code",
   "execution_count": 192,
   "metadata": {},
   "outputs": [],
   "source": [
    "#rename column headers using the 'Domain' header row coordinates\n",
    "ca_df = ca_df.rename(columns=ca_df.iloc[1])"
   ]
  },
  {
   "cell_type": "code",
   "execution_count": 193,
   "metadata": {},
   "outputs": [],
   "source": [
    "ca_df = ca_df.drop([0,1])"
   ]
  },
  {
   "cell_type": "code",
   "execution_count": 194,
   "metadata": {},
   "outputs": [],
   "source": [
    "ca_df = ca_df[['Medicareid','Name']]"
   ]
  },
  {
   "cell_type": "code",
   "execution_count": 195,
   "metadata": {},
   "outputs": [],
   "source": [
    "#rename columns to make sure they match the main sheet column headers\n",
    "ca_df = ca_df.rename(columns={\"Medicareid\": \"Medicare ID\", \"Name\": \"Short name\"})"
   ]
  },
  {
   "cell_type": "code",
   "execution_count": 196,
   "metadata": {},
   "outputs": [],
   "source": [
    "ca_df['Cohort'] = 'Critical Access & Small Community'"
   ]
  },
  {
   "cell_type": "markdown",
   "metadata": {},
   "source": [
    "### Union the dataframes together"
   ]
  },
  {
   "cell_type": "code",
   "execution_count": 197,
   "metadata": {},
   "outputs": [],
   "source": [
    "df_list = [df,ca_df]\n",
    "df_concat = pd.concat(df_list)"
   ]
  },
  {
   "cell_type": "code",
   "execution_count": 198,
   "metadata": {},
   "outputs": [],
   "source": [
    "df_concat = df_concat.drop_duplicates()"
   ]
  },
  {
   "cell_type": "code",
   "execution_count": 199,
   "metadata": {},
   "outputs": [
    {
     "data": {
      "text/html": [
       "<div>\n",
       "<style scoped>\n",
       "    .dataframe tbody tr th:only-of-type {\n",
       "        vertical-align: middle;\n",
       "    }\n",
       "\n",
       "    .dataframe tbody tr th {\n",
       "        vertical-align: top;\n",
       "    }\n",
       "\n",
       "    .dataframe thead th {\n",
       "        text-align: right;\n",
       "    }\n",
       "</style>\n",
       "<table border=\"1\" class=\"dataframe\">\n",
       "  <thead>\n",
       "    <tr style=\"text-align: right;\">\n",
       "      <th></th>\n",
       "      <th>Medicare ID</th>\n",
       "      <th>Short name</th>\n",
       "      <th>Cohort</th>\n",
       "    </tr>\n",
       "  </thead>\n",
       "  <tbody>\n",
       "    <tr>\n",
       "      <th>1</th>\n",
       "      <td>010033</td>\n",
       "      <td>ALABAMA</td>\n",
       "      <td>Comprehensive Academic Medical Center</td>\n",
       "    </tr>\n",
       "    <tr>\n",
       "      <th>2</th>\n",
       "      <td>030002</td>\n",
       "      <td>BANNERHEALTH_PHOENIX</td>\n",
       "      <td>Comprehensive Academic Medical Center</td>\n",
       "    </tr>\n",
       "    <tr>\n",
       "      <th>3</th>\n",
       "      <td>030064</td>\n",
       "      <td>BANNERHEALTH_ARIZONA</td>\n",
       "      <td>Comprehensive Academic Medical Center</td>\n",
       "    </tr>\n",
       "    <tr>\n",
       "      <th>4</th>\n",
       "      <td>040016</td>\n",
       "      <td>ARKANSAS</td>\n",
       "      <td>Comprehensive Academic Medical Center</td>\n",
       "    </tr>\n",
       "    <tr>\n",
       "      <th>5</th>\n",
       "      <td>050025</td>\n",
       "      <td>UCSD</td>\n",
       "      <td>Comprehensive Academic Medical Center</td>\n",
       "    </tr>\n",
       "    <tr>\n",
       "      <th>...</th>\n",
       "      <td>...</td>\n",
       "      <td>...</td>\n",
       "      <td>...</td>\n",
       "    </tr>\n",
       "    <tr>\n",
       "      <th>162</th>\n",
       "      <td>521344</td>\n",
       "      <td>Boscobel Area Health Care</td>\n",
       "      <td>Critical Access &amp; Small Community</td>\n",
       "    </tr>\n",
       "    <tr>\n",
       "      <th>163</th>\n",
       "      <td>521346</td>\n",
       "      <td>ThedaCare Medical Center Shawano</td>\n",
       "      <td>Critical Access &amp; Small Community</td>\n",
       "    </tr>\n",
       "    <tr>\n",
       "      <th>164</th>\n",
       "      <td>521349</td>\n",
       "      <td>Allina River Falls Hospital</td>\n",
       "      <td>Critical Access &amp; Small Community</td>\n",
       "    </tr>\n",
       "    <tr>\n",
       "      <th>165</th>\n",
       "      <td>521350</td>\n",
       "      <td>Aspirus Langlade Hospital</td>\n",
       "      <td>Critical Access &amp; Small Community</td>\n",
       "    </tr>\n",
       "    <tr>\n",
       "      <th>166</th>\n",
       "      <td>521355</td>\n",
       "      <td>ThedaCare Medical Center - Berlin</td>\n",
       "      <td>Critical Access &amp; Small Community</td>\n",
       "    </tr>\n",
       "  </tbody>\n",
       "</table>\n",
       "<p>955 rows × 3 columns</p>\n",
       "</div>"
      ],
      "text/plain": [
       "    Medicare ID                         Short name  \\\n",
       "1        010033                            ALABAMA   \n",
       "2        030002               BANNERHEALTH_PHOENIX   \n",
       "3        030064               BANNERHEALTH_ARIZONA   \n",
       "4        040016                           ARKANSAS   \n",
       "5        050025                               UCSD   \n",
       "..          ...                                ...   \n",
       "162      521344          Boscobel Area Health Care   \n",
       "163      521346   ThedaCare Medical Center Shawano   \n",
       "164      521349        Allina River Falls Hospital   \n",
       "165      521350          Aspirus Langlade Hospital   \n",
       "166      521355  ThedaCare Medical Center - Berlin   \n",
       "\n",
       "                                    Cohort  \n",
       "1    Comprehensive Academic Medical Center  \n",
       "2    Comprehensive Academic Medical Center  \n",
       "3    Comprehensive Academic Medical Center  \n",
       "4    Comprehensive Academic Medical Center  \n",
       "5    Comprehensive Academic Medical Center  \n",
       "..                                     ...  \n",
       "162      Critical Access & Small Community  \n",
       "163      Critical Access & Small Community  \n",
       "164      Critical Access & Small Community  \n",
       "165      Critical Access & Small Community  \n",
       "166      Critical Access & Small Community  \n",
       "\n",
       "[955 rows x 3 columns]"
      ]
     },
     "execution_count": 199,
     "metadata": {},
     "output_type": "execute_result"
    }
   ],
   "source": [
    "df_concat"
   ]
  },
  {
   "cell_type": "code",
   "execution_count": 200,
   "metadata": {},
   "outputs": [
    {
     "data": {
      "text/plain": [
       "Cohort\n",
       "Community Medical Center                 334\n",
       "Complex Care Medical Center              188\n",
       "Comprehensive Academic Medical Center    116\n",
       "Critical Access & Small Community        165\n",
       "Large, Specialized Medical Center        152\n",
       "Name: Cohort, dtype: int64"
      ]
     },
     "execution_count": 200,
     "metadata": {},
     "output_type": "execute_result"
    }
   ],
   "source": [
    "df_concat.groupby(['Cohort'])['Cohort'].count()"
   ]
  },
  {
   "cell_type": "markdown",
   "metadata": {},
   "source": [
    "### Query db.  Get all cohorts in db"
   ]
  },
  {
   "cell_type": "code",
   "execution_count": 201,
   "metadata": {},
   "outputs": [],
   "source": [
    "#function to query db and get cohort ids and cohort names.\n",
    "def get_all_cohorts():\n",
    "    # define the query\n",
    "    all_cohorts = '''\n",
    "        SELECT\n",
    "        *\n",
    "        FROM\n",
    "        NM_Analytics_Prototype.vizient_qa.cohort\n",
    "        '''\n",
    "    # create the connection to the ms sql db\n",
    "    conn = pyodbc.connect('Driver={SQL Server};'\n",
    "                          'Server=edw00pd05wva.corp.nm.org\\EDWIDS1;'\n",
    "                          'Database=clarity;'\n",
    "                          'Trusted_Connection=yes;')\n",
    "\n",
    "    # read query results into pandas dataframe\n",
    "    cohort_df = pd.DataFrame(pd.read_sql(all_cohorts, conn))\n",
    "    # close the db connection\n",
    "    conn.close()\n",
    "    # return the results dataframe of measure ids and names\n",
    "    return (cohort_df)"
   ]
  },
  {
   "cell_type": "markdown",
   "metadata": {},
   "source": [
    "### Query db.  Get all hospitals in db."
   ]
  },
  {
   "cell_type": "code",
   "execution_count": 202,
   "metadata": {},
   "outputs": [],
   "source": [
    "#function to query db and get hospital ids and hospital names.\n",
    "def get_all_hospitals():\n",
    "    # define the query\n",
    "    all_hospitals = '''\n",
    "        SELECT\n",
    "        *\n",
    "        FROM\n",
    "        NM_Analytics_Prototype.vizient_qa.hospitals\n",
    "        '''\n",
    "    # create the connection to the ms sql db\n",
    "    conn = pyodbc.connect('Driver={SQL Server};'\n",
    "                          'Server=edw00pd05wva.corp.nm.org\\EDWIDS1;'\n",
    "                          'Database=clarity;'\n",
    "                          'Trusted_Connection=yes;')\n",
    "\n",
    "    # read query results into pandas dataframe\n",
    "    hospital_df = pd.DataFrame(pd.read_sql(all_hospitals, conn))\n",
    "    # close the db connection\n",
    "    conn.close()\n",
    "    # return the results dataframe of measure ids and names\n",
    "    return (hospital_df)"
   ]
  },
  {
   "cell_type": "code",
   "execution_count": 203,
   "metadata": {},
   "outputs": [],
   "source": [
    "cohort_df = get_all_cohorts()"
   ]
  },
  {
   "cell_type": "code",
   "execution_count": 204,
   "metadata": {},
   "outputs": [],
   "source": [
    "hospital_df = get_all_hospitals()"
   ]
  },
  {
   "cell_type": "markdown",
   "metadata": {},
   "source": [
    "### Conditionally update the cohort names because they are different than what is stored in the database.  Clean up the hospital names"
   ]
  },
  {
   "cell_type": "code",
   "execution_count": 205,
   "metadata": {},
   "outputs": [
    {
     "data": {
      "text/plain": [
       "array(['Comprehensive Academic Medical Center',\n",
       "       'Large, Specialized Medical Center', 'Complex Care Medical Center',\n",
       "       'Community Medical Center', 'Critical Access & Small Community'],\n",
       "      dtype=object)"
      ]
     },
     "execution_count": 205,
     "metadata": {},
     "output_type": "execute_result"
    }
   ],
   "source": [
    "#validate cohort names.  Vizient keeps changing cohort name formatting slightly so I will force the cohorts to match\n",
    "#what is already in the database\n",
    "df_concat['Cohort'].unique()"
   ]
  },
  {
   "cell_type": "code",
   "execution_count": 206,
   "metadata": {},
   "outputs": [],
   "source": [
    "df_concat['Cohort'] = np.where(df_concat['Cohort']=='Comprehensive Academic Medical Center', 'Comprehensive Academic Medical Center', df_concat['Cohort'])"
   ]
  },
  {
   "cell_type": "code",
   "execution_count": 207,
   "metadata": {},
   "outputs": [],
   "source": [
    "df_concat['Cohort'] = np.where(df_concat['Cohort']=='Large, Specialized Complex Care Medical Center', 'Large Specialized Complex Care Medical Center', df_concat['Cohort'])"
   ]
  },
  {
   "cell_type": "code",
   "execution_count": 208,
   "metadata": {},
   "outputs": [],
   "source": [
    "#period 4 2021 they messed up the lsccmc name...\n",
    "df_concat['Cohort'] = np.where(df_concat['Cohort']=='Large, Specialized Medical Center', 'Large Specialized Complex Care Medical Center', df_concat['Cohort'])"
   ]
  },
  {
   "cell_type": "code",
   "execution_count": 209,
   "metadata": {},
   "outputs": [],
   "source": [
    "df_concat['Cohort'] = np.where(df_concat['Cohort']=='Complex Care Medical Center', 'Complex Care Medical Center', df_concat['Cohort'])"
   ]
  },
  {
   "cell_type": "code",
   "execution_count": 210,
   "metadata": {},
   "outputs": [],
   "source": [
    "df_concat['Cohort'] = np.where(df_concat['Cohort']=='Community Medical Center', 'Community', df_concat['Cohort'])"
   ]
  },
  {
   "cell_type": "code",
   "execution_count": 211,
   "metadata": {},
   "outputs": [],
   "source": [
    "df_concat['Cohort'] = np.where(df_concat['Cohort']=='Critical Access & Small Community', 'Critical Access & Small Community', df_concat['Cohort'])"
   ]
  },
  {
   "cell_type": "code",
   "execution_count": 212,
   "metadata": {},
   "outputs": [
    {
     "data": {
      "text/plain": [
       "array(['Comprehensive Academic Medical Center',\n",
       "       'Large Specialized Complex Care Medical Center',\n",
       "       'Complex Care Medical Center', 'Community',\n",
       "       'Critical Access & Small Community'], dtype=object)"
      ]
     },
     "execution_count": 212,
     "metadata": {},
     "output_type": "execute_result"
    }
   ],
   "source": [
    "df_concat['Cohort'].unique()"
   ]
  },
  {
   "cell_type": "code",
   "execution_count": null,
   "metadata": {},
   "outputs": [],
   "source": []
  },
  {
   "cell_type": "code",
   "execution_count": 213,
   "metadata": {},
   "outputs": [],
   "source": [
    "#clean up hospital names\n",
    "df_concat['Short name'] = df_concat['Short name'].str.upper().str.replace(' ','_').str.replace('-','_').str.replace(\"'\",\"\")\n",
    "hospital_df['hospital_name'] = hospital_df['hospital_name'].str.upper().str.replace(' ','_').str.replace('-','_').str.replace(\"'\",\"\")"
   ]
  },
  {
   "cell_type": "markdown",
   "metadata": {},
   "source": [
    "### Left join to the database cohorts"
   ]
  },
  {
   "cell_type": "code",
   "execution_count": 214,
   "metadata": {},
   "outputs": [],
   "source": [
    "#left join dataframe to datbase lookup table\n",
    "df_concat_with_cohort_id = pd.merge(df_concat, cohort_df, left_on='Cohort',right_on=\"cohort_name\",how=\"left\")"
   ]
  },
  {
   "cell_type": "code",
   "execution_count": 215,
   "metadata": {},
   "outputs": [
    {
     "data": {
      "text/html": [
       "<div>\n",
       "<style scoped>\n",
       "    .dataframe tbody tr th:only-of-type {\n",
       "        vertical-align: middle;\n",
       "    }\n",
       "\n",
       "    .dataframe tbody tr th {\n",
       "        vertical-align: top;\n",
       "    }\n",
       "\n",
       "    .dataframe thead th {\n",
       "        text-align: right;\n",
       "    }\n",
       "</style>\n",
       "<table border=\"1\" class=\"dataframe\">\n",
       "  <thead>\n",
       "    <tr style=\"text-align: right;\">\n",
       "      <th></th>\n",
       "      <th>Medicare ID</th>\n",
       "      <th>Short name</th>\n",
       "      <th>Cohort</th>\n",
       "      <th>cohort_id</th>\n",
       "      <th>cohort_name</th>\n",
       "    </tr>\n",
       "  </thead>\n",
       "  <tbody>\n",
       "  </tbody>\n",
       "</table>\n",
       "</div>"
      ],
      "text/plain": [
       "Empty DataFrame\n",
       "Columns: [Medicare ID, Short name, Cohort, cohort_id, cohort_name]\n",
       "Index: []"
      ]
     },
     "execution_count": 215,
     "metadata": {},
     "output_type": "execute_result"
    }
   ],
   "source": [
    "#check if there are any unjoined rows\n",
    "df_concat_with_cohort_id[df_concat_with_cohort_id['cohort_name'].isna()]"
   ]
  },
  {
   "cell_type": "code",
   "execution_count": 216,
   "metadata": {},
   "outputs": [
    {
     "data": {
      "text/html": [
       "<div>\n",
       "<style scoped>\n",
       "    .dataframe tbody tr th:only-of-type {\n",
       "        vertical-align: middle;\n",
       "    }\n",
       "\n",
       "    .dataframe tbody tr th {\n",
       "        vertical-align: top;\n",
       "    }\n",
       "\n",
       "    .dataframe thead th {\n",
       "        text-align: right;\n",
       "    }\n",
       "</style>\n",
       "<table border=\"1\" class=\"dataframe\">\n",
       "  <thead>\n",
       "    <tr style=\"text-align: right;\">\n",
       "      <th></th>\n",
       "      <th>Medicare ID</th>\n",
       "      <th>Short name</th>\n",
       "      <th>Cohort</th>\n",
       "      <th>cohort_id</th>\n",
       "      <th>cohort_name</th>\n",
       "    </tr>\n",
       "  </thead>\n",
       "  <tbody>\n",
       "    <tr>\n",
       "      <th>0</th>\n",
       "      <td>010033</td>\n",
       "      <td>ALABAMA</td>\n",
       "      <td>Comprehensive Academic Medical Center</td>\n",
       "      <td>1</td>\n",
       "      <td>Comprehensive Academic Medical Center</td>\n",
       "    </tr>\n",
       "    <tr>\n",
       "      <th>1</th>\n",
       "      <td>030002</td>\n",
       "      <td>BANNERHEALTH_PHOENIX</td>\n",
       "      <td>Comprehensive Academic Medical Center</td>\n",
       "      <td>1</td>\n",
       "      <td>Comprehensive Academic Medical Center</td>\n",
       "    </tr>\n",
       "    <tr>\n",
       "      <th>2</th>\n",
       "      <td>030064</td>\n",
       "      <td>BANNERHEALTH_ARIZONA</td>\n",
       "      <td>Comprehensive Academic Medical Center</td>\n",
       "      <td>1</td>\n",
       "      <td>Comprehensive Academic Medical Center</td>\n",
       "    </tr>\n",
       "    <tr>\n",
       "      <th>3</th>\n",
       "      <td>040016</td>\n",
       "      <td>ARKANSAS</td>\n",
       "      <td>Comprehensive Academic Medical Center</td>\n",
       "      <td>1</td>\n",
       "      <td>Comprehensive Academic Medical Center</td>\n",
       "    </tr>\n",
       "    <tr>\n",
       "      <th>4</th>\n",
       "      <td>050025</td>\n",
       "      <td>UCSD</td>\n",
       "      <td>Comprehensive Academic Medical Center</td>\n",
       "      <td>1</td>\n",
       "      <td>Comprehensive Academic Medical Center</td>\n",
       "    </tr>\n",
       "  </tbody>\n",
       "</table>\n",
       "</div>"
      ],
      "text/plain": [
       "  Medicare ID            Short name                                 Cohort  \\\n",
       "0      010033               ALABAMA  Comprehensive Academic Medical Center   \n",
       "1      030002  BANNERHEALTH_PHOENIX  Comprehensive Academic Medical Center   \n",
       "2      030064  BANNERHEALTH_ARIZONA  Comprehensive Academic Medical Center   \n",
       "3      040016              ARKANSAS  Comprehensive Academic Medical Center   \n",
       "4      050025                  UCSD  Comprehensive Academic Medical Center   \n",
       "\n",
       "   cohort_id                            cohort_name  \n",
       "0          1  Comprehensive Academic Medical Center  \n",
       "1          1  Comprehensive Academic Medical Center  \n",
       "2          1  Comprehensive Academic Medical Center  \n",
       "3          1  Comprehensive Academic Medical Center  \n",
       "4          1  Comprehensive Academic Medical Center  "
      ]
     },
     "execution_count": 216,
     "metadata": {},
     "output_type": "execute_result"
    }
   ],
   "source": [
    "df_concat_with_cohort_id.head()"
   ]
  },
  {
   "cell_type": "markdown",
   "metadata": {},
   "source": [
    "### Left join to the database hospitals"
   ]
  },
  {
   "cell_type": "code",
   "execution_count": 217,
   "metadata": {},
   "outputs": [],
   "source": [
    "#left join dataframe to database hospital table\n",
    "df_final = pd.merge(df_concat_with_cohort_id, hospital_df, left_on=['Short name','cohort_id'],right_on=[\"hospital_name\",'hospital_cohort_id'],how=\"left\")"
   ]
  },
  {
   "cell_type": "code",
   "execution_count": 218,
   "metadata": {},
   "outputs": [],
   "source": [
    "df_final_nas = df_final[df_final['hospital_name'].isna()]"
   ]
  },
  {
   "cell_type": "markdown",
   "metadata": {},
   "source": [
    "### Write the output to an excel file for further exploration and validation.  Need to check whether failed left join hospitals are because of Name change, Cohort Change or if it is a brand new Vizient member hospital.  Most likely the cause will be because of name change or because the hospital is new.  "
   ]
  },
  {
   "cell_type": "code",
   "execution_count": 219,
   "metadata": {},
   "outputs": [],
   "source": [
    "#df_final_nas.to_excel(\"qa_hospitals_check.xlsx\",index=False)"
   ]
  },
  {
   "cell_type": "markdown",
   "metadata": {},
   "source": [
    "### Left join to database hospitals on medicare ID"
   ]
  },
  {
   "cell_type": "code",
   "execution_count": 220,
   "metadata": {},
   "outputs": [],
   "source": [
    "df_final_med_id = pd.merge(df_concat_with_cohort_id, hospital_df, left_on=['Medicare ID'],right_on=['hospital_medicare_id'],how=\"left\")"
   ]
  },
  {
   "cell_type": "code",
   "execution_count": 221,
   "metadata": {},
   "outputs": [],
   "source": [
    "df_med_id_final_nas = df_final_med_id[df_final_med_id['hospital_name'].isna()]"
   ]
  },
  {
   "cell_type": "code",
   "execution_count": 222,
   "metadata": {},
   "outputs": [
    {
     "data": {
      "text/plain": [
       "(0, 9)"
      ]
     },
     "execution_count": 222,
     "metadata": {},
     "output_type": "execute_result"
    }
   ],
   "source": [
    "df_med_id_final_nas.shape"
   ]
  },
  {
   "cell_type": "code",
   "execution_count": 223,
   "metadata": {},
   "outputs": [
    {
     "data": {
      "text/plain": [
       "(0, 9)"
      ]
     },
     "execution_count": 223,
     "metadata": {},
     "output_type": "execute_result"
    }
   ],
   "source": [
    "df_final_nas.shape"
   ]
  },
  {
   "cell_type": "code",
   "execution_count": 224,
   "metadata": {},
   "outputs": [],
   "source": [
    "name_or_cohort_changed_hospitals = [i for i in list(df_final_nas['Medicare ID']) if i not in list(df_med_id_final_nas['Medicare ID'])]"
   ]
  },
  {
   "cell_type": "code",
   "execution_count": 225,
   "metadata": {},
   "outputs": [],
   "source": [
    "new_hospitals = list(df_med_id_final_nas['Medicare ID'])"
   ]
  },
  {
   "cell_type": "code",
   "execution_count": 226,
   "metadata": {},
   "outputs": [
    {
     "data": {
      "text/plain": [
       "0"
      ]
     },
     "execution_count": 226,
     "metadata": {},
     "output_type": "execute_result"
    }
   ],
   "source": [
    "len(list(set(new_hospitals)))"
   ]
  },
  {
   "cell_type": "code",
   "execution_count": 227,
   "metadata": {},
   "outputs": [],
   "source": [
    "new_hosp_df_final_nas = df_final_nas[df_final_nas['Medicare ID'].isin(new_hospitals)]"
   ]
  },
  {
   "cell_type": "code",
   "execution_count": 228,
   "metadata": {},
   "outputs": [],
   "source": [
    "name_or_cohort_change_df_final_nas = df_final_nas[df_final_nas['Medicare ID'].isin(name_or_cohort_changed_hospitals)]"
   ]
  },
  {
   "cell_type": "code",
   "execution_count": 229,
   "metadata": {},
   "outputs": [
    {
     "data": {
      "text/plain": [
       "(0, 9)"
      ]
     },
     "execution_count": 229,
     "metadata": {},
     "output_type": "execute_result"
    }
   ],
   "source": [
    "new_hosp_df_final_nas.shape"
   ]
  },
  {
   "cell_type": "code",
   "execution_count": 230,
   "metadata": {},
   "outputs": [
    {
     "data": {
      "text/html": [
       "<div>\n",
       "<style scoped>\n",
       "    .dataframe tbody tr th:only-of-type {\n",
       "        vertical-align: middle;\n",
       "    }\n",
       "\n",
       "    .dataframe tbody tr th {\n",
       "        vertical-align: top;\n",
       "    }\n",
       "\n",
       "    .dataframe thead th {\n",
       "        text-align: right;\n",
       "    }\n",
       "</style>\n",
       "<table border=\"1\" class=\"dataframe\">\n",
       "  <thead>\n",
       "    <tr style=\"text-align: right;\">\n",
       "      <th></th>\n",
       "      <th>Medicare ID</th>\n",
       "      <th>Short name</th>\n",
       "      <th>Cohort</th>\n",
       "      <th>cohort_id</th>\n",
       "      <th>cohort_name</th>\n",
       "      <th>hospital_id</th>\n",
       "      <th>hospital_name</th>\n",
       "      <th>hospital_medicare_id</th>\n",
       "      <th>hospital_cohort_id</th>\n",
       "    </tr>\n",
       "  </thead>\n",
       "  <tbody>\n",
       "  </tbody>\n",
       "</table>\n",
       "</div>"
      ],
      "text/plain": [
       "Empty DataFrame\n",
       "Columns: [Medicare ID, Short name, Cohort, cohort_id, cohort_name, hospital_id, hospital_name, hospital_medicare_id, hospital_cohort_id]\n",
       "Index: []"
      ]
     },
     "execution_count": 230,
     "metadata": {},
     "output_type": "execute_result"
    }
   ],
   "source": [
    "new_hosp_df_final_nas.head()"
   ]
  },
  {
   "cell_type": "code",
   "execution_count": 231,
   "metadata": {},
   "outputs": [
    {
     "data": {
      "text/plain": [
       "(0, 9)"
      ]
     },
     "execution_count": 231,
     "metadata": {},
     "output_type": "execute_result"
    }
   ],
   "source": [
    "name_or_cohort_change_df_final_nas.shape"
   ]
  },
  {
   "cell_type": "code",
   "execution_count": 232,
   "metadata": {},
   "outputs": [
    {
     "data": {
      "text/html": [
       "<div>\n",
       "<style scoped>\n",
       "    .dataframe tbody tr th:only-of-type {\n",
       "        vertical-align: middle;\n",
       "    }\n",
       "\n",
       "    .dataframe tbody tr th {\n",
       "        vertical-align: top;\n",
       "    }\n",
       "\n",
       "    .dataframe thead th {\n",
       "        text-align: right;\n",
       "    }\n",
       "</style>\n",
       "<table border=\"1\" class=\"dataframe\">\n",
       "  <thead>\n",
       "    <tr style=\"text-align: right;\">\n",
       "      <th></th>\n",
       "      <th>Medicare ID</th>\n",
       "      <th>Short name</th>\n",
       "      <th>Cohort</th>\n",
       "      <th>cohort_id</th>\n",
       "      <th>cohort_name</th>\n",
       "      <th>hospital_id</th>\n",
       "      <th>hospital_name</th>\n",
       "      <th>hospital_medicare_id</th>\n",
       "      <th>hospital_cohort_id</th>\n",
       "    </tr>\n",
       "  </thead>\n",
       "  <tbody>\n",
       "  </tbody>\n",
       "</table>\n",
       "</div>"
      ],
      "text/plain": [
       "Empty DataFrame\n",
       "Columns: [Medicare ID, Short name, Cohort, cohort_id, cohort_name, hospital_id, hospital_name, hospital_medicare_id, hospital_cohort_id]\n",
       "Index: []"
      ]
     },
     "execution_count": 232,
     "metadata": {},
     "output_type": "execute_result"
    }
   ],
   "source": [
    "#NOTE ABOUT RE-COHORTING:  IN 2021, 2022, NORTHWESTERN_KISH AND NORTHWESTERN_HUNTLEY WERE OFFICIALLY PUT IN THE VIZIENT COMMUNITY COHRT.\n",
    "#NORTHWESTERN QUALITY LEADERS WANT TO TRACK CCMC MEASURES.  THEREFORE, WE ARE MANUALLY MOVING\n",
    "#KISH AND HUNTLEY TO THE CCMC COHORT.  THEREFORE, KISH AND HUNTLEY MAY APPEAR IN THE BELOW OUTPUT.  YOU SHOULD IGNORE IF\n",
    "#KISH AND HUNTLEY ARE CORRECTLY ASSIGNED PER NM QUALITY.  THIS SITUATION MAY CHANGE IN THE FUTURE BUT, AS OF FY23, IT WAS THE CASE.\n",
    "name_or_cohort_change_df_final_nas"
   ]
  },
  {
   "cell_type": "markdown",
   "metadata": {},
   "source": [
    "### export just the hospitals that already have a medicare ID in the database.  This means the hospital already has a hospital_id but something about the hospital name or cohort ID changed.  Export to Excel and use Excel to create update statements to change all these."
   ]
  },
  {
   "cell_type": "code",
   "execution_count": 52,
   "metadata": {},
   "outputs": [],
   "source": [
    "name_or_cohort_change_df_final_nas.to_excel(\"named_or_cohort_changed_hospitals_check.xlsx\",index=False)"
   ]
  },
  {
   "cell_type": "markdown",
   "metadata": {},
   "source": [
    "## BELOW HERE:  Once dataframe has been narrowed down to just new hospitals, perform inserts into database"
   ]
  },
  {
   "cell_type": "code",
   "execution_count": 169,
   "metadata": {},
   "outputs": [],
   "source": [
    "#isolate just medicare id, hospital name and cohort id\n",
    "new_hosp_df_final_nas = new_hosp_df_final_nas[['Medicare ID','Short name','cohort_id']]"
   ]
  },
  {
   "cell_type": "code",
   "execution_count": 170,
   "metadata": {},
   "outputs": [
    {
     "data": {
      "text/html": [
       "<div>\n",
       "<style scoped>\n",
       "    .dataframe tbody tr th:only-of-type {\n",
       "        vertical-align: middle;\n",
       "    }\n",
       "\n",
       "    .dataframe tbody tr th {\n",
       "        vertical-align: top;\n",
       "    }\n",
       "\n",
       "    .dataframe thead th {\n",
       "        text-align: right;\n",
       "    }\n",
       "</style>\n",
       "<table border=\"1\" class=\"dataframe\">\n",
       "  <thead>\n",
       "    <tr style=\"text-align: right;\">\n",
       "      <th></th>\n",
       "      <th>Medicare ID</th>\n",
       "      <th>Short name</th>\n",
       "      <th>cohort_id</th>\n",
       "    </tr>\n",
       "  </thead>\n",
       "  <tbody>\n",
       "    <tr>\n",
       "      <th>28</th>\n",
       "      <td>120001</td>\n",
       "      <td>QMC_MANAMANA</td>\n",
       "      <td>1</td>\n",
       "    </tr>\n",
       "    <tr>\n",
       "      <th>135</th>\n",
       "      <td>060009</td>\n",
       "      <td>IH_LUTHERAN</td>\n",
       "      <td>2</td>\n",
       "    </tr>\n",
       "    <tr>\n",
       "      <th>139</th>\n",
       "      <td>060023</td>\n",
       "      <td>IH_STMARYGRAND</td>\n",
       "      <td>2</td>\n",
       "    </tr>\n",
       "    <tr>\n",
       "      <th>176</th>\n",
       "      <td>210003</td>\n",
       "      <td>UM_PRINCE_GEORGES</td>\n",
       "      <td>2</td>\n",
       "    </tr>\n",
       "    <tr>\n",
       "      <th>197</th>\n",
       "      <td>270049</td>\n",
       "      <td>IH_STVINCENT</td>\n",
       "      <td>2</td>\n",
       "    </tr>\n",
       "  </tbody>\n",
       "</table>\n",
       "</div>"
      ],
      "text/plain": [
       "    Medicare ID         Short name  cohort_id\n",
       "28       120001       QMC_MANAMANA          1\n",
       "135      060009        IH_LUTHERAN          2\n",
       "139      060023     IH_STMARYGRAND          2\n",
       "176      210003  UM_PRINCE_GEORGES          2\n",
       "197      270049       IH_STVINCENT          2"
      ]
     },
     "execution_count": 170,
     "metadata": {},
     "output_type": "execute_result"
    }
   ],
   "source": [
    "new_hosp_df_final_nas.head()"
   ]
  },
  {
   "cell_type": "markdown",
   "metadata": {},
   "source": [
    "### get max hospital_id in the the hospitals table"
   ]
  },
  {
   "cell_type": "code",
   "execution_count": 171,
   "metadata": {},
   "outputs": [],
   "source": [
    "#function to query db and get measure ids and measure names.\n",
    "def get_max_hosp_id():\n",
    "    # define the query\n",
    "    max_hosp_id = '''\n",
    "        SELECT\n",
    "        max(hospital_id)\n",
    "        FROM\n",
    "        NM_Analytics_Prototype.vizient_qa.hospitals\n",
    "        '''\n",
    "    # create the connection to the ms sql db\n",
    "    conn = pyodbc.connect('Driver={SQL Server};'\n",
    "                          'Server=edw00pd05wva.corp.nm.org\\EDWIDS1;'\n",
    "                          'Database=clarity;'\n",
    "                          'Trusted_Connection=yes;')\n",
    "\n",
    "    # read query results into pandas dataframe\n",
    "    max_df = pd.DataFrame(pd.read_sql(max_hosp_id, conn))\n",
    "    # close the db connection\n",
    "    conn.close()\n",
    "    # return the results dataframe of measure ids and names\n",
    "    return (max_df)"
   ]
  },
  {
   "cell_type": "code",
   "execution_count": 172,
   "metadata": {},
   "outputs": [],
   "source": [
    "max_id = get_max_hosp_id()"
   ]
  },
  {
   "cell_type": "code",
   "execution_count": 173,
   "metadata": {},
   "outputs": [],
   "source": [
    "max_id = max_id.iloc[0][0]"
   ]
  },
  {
   "cell_type": "code",
   "execution_count": 174,
   "metadata": {},
   "outputs": [
    {
     "data": {
      "text/plain": [
       "array([936, 937, 938, 939, 940, 941, 942, 943, 944, 945, 946, 947, 948,\n",
       "       949, 950, 951, 952, 953, 954, 955, 956, 957, 958, 959, 960, 961,\n",
       "       962, 963, 964, 965, 966, 967, 968, 969, 970, 971, 972, 973, 974,\n",
       "       975, 976, 977, 978, 979, 980, 981, 982, 983, 984, 985, 986, 987,\n",
       "       988, 989, 990, 991, 992, 993, 994, 995, 996, 997, 998])"
      ]
     },
     "execution_count": 174,
     "metadata": {},
     "output_type": "execute_result"
    }
   ],
   "source": [
    "np.arange(len(new_hosp_df_final_nas)) + 1 + max_id"
   ]
  },
  {
   "cell_type": "code",
   "execution_count": 175,
   "metadata": {},
   "outputs": [],
   "source": [
    "#create new hospitals ids\n",
    "new_hosp_df_final_nas['hospital_id'] = np.arange(len(new_hosp_df_final_nas)) + 1 + max_id"
   ]
  },
  {
   "cell_type": "code",
   "execution_count": 176,
   "metadata": {},
   "outputs": [
    {
     "data": {
      "text/html": [
       "<div>\n",
       "<style scoped>\n",
       "    .dataframe tbody tr th:only-of-type {\n",
       "        vertical-align: middle;\n",
       "    }\n",
       "\n",
       "    .dataframe tbody tr th {\n",
       "        vertical-align: top;\n",
       "    }\n",
       "\n",
       "    .dataframe thead th {\n",
       "        text-align: right;\n",
       "    }\n",
       "</style>\n",
       "<table border=\"1\" class=\"dataframe\">\n",
       "  <thead>\n",
       "    <tr style=\"text-align: right;\">\n",
       "      <th></th>\n",
       "      <th>Medicare ID</th>\n",
       "      <th>Short name</th>\n",
       "      <th>cohort_id</th>\n",
       "      <th>hospital_id</th>\n",
       "    </tr>\n",
       "  </thead>\n",
       "  <tbody>\n",
       "    <tr>\n",
       "      <th>28</th>\n",
       "      <td>120001</td>\n",
       "      <td>QMC_MANAMANA</td>\n",
       "      <td>1</td>\n",
       "      <td>936</td>\n",
       "    </tr>\n",
       "    <tr>\n",
       "      <th>135</th>\n",
       "      <td>060009</td>\n",
       "      <td>IH_LUTHERAN</td>\n",
       "      <td>2</td>\n",
       "      <td>937</td>\n",
       "    </tr>\n",
       "    <tr>\n",
       "      <th>139</th>\n",
       "      <td>060023</td>\n",
       "      <td>IH_STMARYGRAND</td>\n",
       "      <td>2</td>\n",
       "      <td>938</td>\n",
       "    </tr>\n",
       "    <tr>\n",
       "      <th>176</th>\n",
       "      <td>210003</td>\n",
       "      <td>UM_PRINCE_GEORGES</td>\n",
       "      <td>2</td>\n",
       "      <td>939</td>\n",
       "    </tr>\n",
       "    <tr>\n",
       "      <th>197</th>\n",
       "      <td>270049</td>\n",
       "      <td>IH_STVINCENT</td>\n",
       "      <td>2</td>\n",
       "      <td>940</td>\n",
       "    </tr>\n",
       "  </tbody>\n",
       "</table>\n",
       "</div>"
      ],
      "text/plain": [
       "    Medicare ID         Short name  cohort_id  hospital_id\n",
       "28       120001       QMC_MANAMANA          1          936\n",
       "135      060009        IH_LUTHERAN          2          937\n",
       "139      060023     IH_STMARYGRAND          2          938\n",
       "176      210003  UM_PRINCE_GEORGES          2          939\n",
       "197      270049       IH_STVINCENT          2          940"
      ]
     },
     "execution_count": 176,
     "metadata": {},
     "output_type": "execute_result"
    }
   ],
   "source": [
    "new_hosp_df_final_nas.head()"
   ]
  },
  {
   "cell_type": "code",
   "execution_count": 177,
   "metadata": {},
   "outputs": [],
   "source": [
    "#rename columns to match the database\n",
    "new_hosp_df_final_nas = new_hosp_df_final_nas.rename(columns={\"Short name\": \"hospital_name\", \"Medicare ID\": \"hospital_medicare_id\", \"cohort_id\":\"hospital_cohort_id\"})"
   ]
  },
  {
   "cell_type": "code",
   "execution_count": 178,
   "metadata": {},
   "outputs": [],
   "source": [
    "#reorder the columns to match the database\n",
    "new_hosp_df_final_nas = new_hosp_df_final_nas[['hospital_id','hospital_name','hospital_medicare_id','hospital_cohort_id']]"
   ]
  },
  {
   "cell_type": "code",
   "execution_count": 179,
   "metadata": {},
   "outputs": [
    {
     "data": {
      "text/html": [
       "<div>\n",
       "<style scoped>\n",
       "    .dataframe tbody tr th:only-of-type {\n",
       "        vertical-align: middle;\n",
       "    }\n",
       "\n",
       "    .dataframe tbody tr th {\n",
       "        vertical-align: top;\n",
       "    }\n",
       "\n",
       "    .dataframe thead th {\n",
       "        text-align: right;\n",
       "    }\n",
       "</style>\n",
       "<table border=\"1\" class=\"dataframe\">\n",
       "  <thead>\n",
       "    <tr style=\"text-align: right;\">\n",
       "      <th></th>\n",
       "      <th>hospital_id</th>\n",
       "      <th>hospital_name</th>\n",
       "      <th>hospital_medicare_id</th>\n",
       "      <th>hospital_cohort_id</th>\n",
       "    </tr>\n",
       "  </thead>\n",
       "  <tbody>\n",
       "    <tr>\n",
       "      <th>28</th>\n",
       "      <td>936</td>\n",
       "      <td>QMC_MANAMANA</td>\n",
       "      <td>120001</td>\n",
       "      <td>1</td>\n",
       "    </tr>\n",
       "    <tr>\n",
       "      <th>135</th>\n",
       "      <td>937</td>\n",
       "      <td>IH_LUTHERAN</td>\n",
       "      <td>060009</td>\n",
       "      <td>2</td>\n",
       "    </tr>\n",
       "    <tr>\n",
       "      <th>139</th>\n",
       "      <td>938</td>\n",
       "      <td>IH_STMARYGRAND</td>\n",
       "      <td>060023</td>\n",
       "      <td>2</td>\n",
       "    </tr>\n",
       "    <tr>\n",
       "      <th>176</th>\n",
       "      <td>939</td>\n",
       "      <td>UM_PRINCE_GEORGES</td>\n",
       "      <td>210003</td>\n",
       "      <td>2</td>\n",
       "    </tr>\n",
       "    <tr>\n",
       "      <th>197</th>\n",
       "      <td>940</td>\n",
       "      <td>IH_STVINCENT</td>\n",
       "      <td>270049</td>\n",
       "      <td>2</td>\n",
       "    </tr>\n",
       "    <tr>\n",
       "      <th>...</th>\n",
       "      <td>...</td>\n",
       "      <td>...</td>\n",
       "      <td>...</td>\n",
       "      <td>...</td>\n",
       "    </tr>\n",
       "    <tr>\n",
       "      <th>930</th>\n",
       "      <td>994</td>\n",
       "      <td>POTOMAC_VALLEY_HOSPITAL</td>\n",
       "      <td>511315</td>\n",
       "      <td>5</td>\n",
       "    </tr>\n",
       "    <tr>\n",
       "      <th>931</th>\n",
       "      <td>995</td>\n",
       "      <td>JEFFERSON_MEDICAL_CENTER</td>\n",
       "      <td>511319</td>\n",
       "      <td>5</td>\n",
       "    </tr>\n",
       "    <tr>\n",
       "      <th>932</th>\n",
       "      <td>996</td>\n",
       "      <td>JACKSON_GENERAL_HOSPITAL</td>\n",
       "      <td>511320</td>\n",
       "      <td>5</td>\n",
       "    </tr>\n",
       "    <tr>\n",
       "      <th>933</th>\n",
       "      <td>997</td>\n",
       "      <td>SAINT_JOSEPHS_HOSPITAL_OF_BUCKHANNON</td>\n",
       "      <td>511321</td>\n",
       "      <td>5</td>\n",
       "    </tr>\n",
       "    <tr>\n",
       "      <th>934</th>\n",
       "      <td>998</td>\n",
       "      <td>SUMMERSVILLE_MEMORIAL_HOSPITAL</td>\n",
       "      <td>511322</td>\n",
       "      <td>5</td>\n",
       "    </tr>\n",
       "  </tbody>\n",
       "</table>\n",
       "<p>63 rows × 4 columns</p>\n",
       "</div>"
      ],
      "text/plain": [
       "     hospital_id                         hospital_name hospital_medicare_id  \\\n",
       "28           936                          QMC_MANAMANA               120001   \n",
       "135          937                           IH_LUTHERAN               060009   \n",
       "139          938                        IH_STMARYGRAND               060023   \n",
       "176          939                     UM_PRINCE_GEORGES               210003   \n",
       "197          940                          IH_STVINCENT               270049   \n",
       "..           ...                                   ...                  ...   \n",
       "930          994               POTOMAC_VALLEY_HOSPITAL               511315   \n",
       "931          995              JEFFERSON_MEDICAL_CENTER               511319   \n",
       "932          996              JACKSON_GENERAL_HOSPITAL               511320   \n",
       "933          997  SAINT_JOSEPHS_HOSPITAL_OF_BUCKHANNON               511321   \n",
       "934          998        SUMMERSVILLE_MEMORIAL_HOSPITAL               511322   \n",
       "\n",
       "     hospital_cohort_id  \n",
       "28                    1  \n",
       "135                   2  \n",
       "139                   2  \n",
       "176                   2  \n",
       "197                   2  \n",
       "..                  ...  \n",
       "930                   5  \n",
       "931                   5  \n",
       "932                   5  \n",
       "933                   5  \n",
       "934                   5  \n",
       "\n",
       "[63 rows x 4 columns]"
      ]
     },
     "execution_count": 179,
     "metadata": {},
     "output_type": "execute_result"
    }
   ],
   "source": [
    "new_hosp_df_final_nas"
   ]
  },
  {
   "cell_type": "markdown",
   "metadata": {},
   "source": [
    "### Insert into database"
   ]
  },
  {
   "cell_type": "code",
   "execution_count": 180,
   "metadata": {},
   "outputs": [],
   "source": [
    "# create the connection to the ms sql db\n",
    "\n",
    "conn = pyodbc.connect('Driver={SQL Server};'\n",
    "                      'Server=edw00pd05wva.corp.nm.org\\EDWIDS1;'\n",
    "                      'Database=clarity;'\n",
    "                      'Trusted_Connection=yes;')\n",
    "\n",
    "cursor = conn.cursor()\n",
    "\n",
    "for i, item in enumerate(new_hosp_df_final_nas.iterrows()):\n",
    "    #print(item[1]['hospital_id'])\n",
    "    #print(\"insert into NM_Analytics_Prototype.vizient_qa.hospitals values (%s,%s,%s,%s)\" % (item[1]['hospital_id'], item[1]['hospital_name'],item[1]['hospital_medicare_id'],item[1]['hospital_cohort_id']))\n",
    "    cursor.execute(\"insert into NM_Analytics_Prototype.vizient_qa.hospitals values (?,?,?,?)\",item[1]['hospital_id'], item[1]['hospital_name'],item[1]['hospital_medicare_id'],item[1]['hospital_cohort_id'])\n",
    "    #cursor.execute(query)\n",
    "    conn.commit()\n",
    "\n",
    "# close the db connection\n",
    "conn.close()"
   ]
  },
  {
   "cell_type": "code",
   "execution_count": 382,
   "metadata": {},
   "outputs": [
    {
     "name": "stdout",
     "output_type": "stream",
     "text": [
      "insert into NM_Analytics_Prototype.vizient_qa.hospitals values (test,test2)\n"
     ]
    }
   ],
   "source": [
    "print(\"insert into NM_Analytics_Prototype.vizient_qa.hospitals values (%s,%s)\" % ('test','test2'))"
   ]
  },
  {
   "cell_type": "code",
   "execution_count": null,
   "metadata": {},
   "outputs": [],
   "source": []
  }
 ],
 "metadata": {
  "kernelspec": {
   "display_name": "py36env",
   "language": "python",
   "name": "py36env"
  },
  "language_info": {
   "codemirror_mode": {
    "name": "ipython",
    "version": 3
   },
   "file_extension": ".py",
   "mimetype": "text/x-python",
   "name": "python",
   "nbconvert_exporter": "python",
   "pygments_lexer": "ipython3",
   "version": "3.6.13"
  }
 },
 "nbformat": 4,
 "nbformat_minor": 4
}

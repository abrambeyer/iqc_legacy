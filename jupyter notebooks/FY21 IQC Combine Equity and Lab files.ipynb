{
 "cells": [
  {
   "cell_type": "code",
   "execution_count": 17,
   "id": "4b426fd2",
   "metadata": {},
   "outputs": [],
   "source": [
    "import os\n",
    "import pandas as pd"
   ]
  },
  {
   "cell_type": "markdown",
   "id": "c2924992",
   "metadata": {},
   "source": [
    "# Equity"
   ]
  },
  {
   "cell_type": "code",
   "execution_count": 18,
   "id": "0401355c",
   "metadata": {},
   "outputs": [],
   "source": [
    "equity_filepath = r'P:\\Datastore02\\Analytics\\230 Inpatient Quality Composite\\data\\Equity Data\\fy22\\013_aug_fytd\\all_files_uncombined_v2'"
   ]
  },
  {
   "cell_type": "markdown",
   "id": "ab1d8a56",
   "metadata": {},
   "source": [
    "### loop over the folder and append each PHI or Completeness file to a list"
   ]
  },
  {
   "cell_type": "code",
   "execution_count": 19,
   "id": "b59f06b2",
   "metadata": {},
   "outputs": [],
   "source": [
    "CHF_BNP_dict = {'PHI':[], 'Completeness':[]}\n",
    "MB_dict = {'PHI':[], 'Completeness':[]}\n",
    "Sepsis_dict = {'PHI':[], 'Completeness':[]}\n",
    "Troponin_dict = {'PHI':[], 'Completeness':[]}\n",
    "\n",
    "for i,item in enumerate(os.listdir(equity_filepath)):\n",
    "    if item.endswith('.zip') == False:\n",
    "        phi_list = [i for i in os.listdir(os.path.join(equity_filepath,item)) if '_PHI' in i.upper()]\n",
    "        completeness_list = [i for i in os.listdir(os.path.join(equity_filepath,item)) if '_COMPLETENESS' in i.upper()]\n",
    "        \n",
    "        df_phi = pd.read_csv(os.path.join(os.path.abspath(equity_filepath),item,phi_list[0]))\n",
    "        \n",
    "        if phi_list[0].startswith('CHF'):\n",
    "            CHF_BNP_dict['PHI'].append(df_phi)\n",
    "        elif phi_list[0].startswith('MB'):\n",
    "            MB_dict['PHI'].append(df_phi)\n",
    "        elif phi_list[0].startswith('Sepsis'):\n",
    "            Sepsis_dict['PHI'].append(df_phi)\n",
    "        elif phi_list[0].startswith('Troponin'):\n",
    "            Troponin_dict['PHI'].append(df_phi)\n",
    "    \n",
    "        df_completeness = pd.read_csv(os.path.join(os.path.abspath(equity_filepath),item,completeness_list[0]))\n",
    "        \n",
    "        if completeness_list[0].startswith('CHF'):\n",
    "            CHF_BNP_dict['Completeness'].append(df_completeness)\n",
    "        elif completeness_list[0].startswith('MB'):\n",
    "            MB_dict['Completeness'].append(df_completeness)\n",
    "        elif completeness_list[0].startswith('Sepsis'):\n",
    "            Sepsis_dict['Completeness'].append(df_completeness)\n",
    "        elif completeness_list[0].startswith('Troponin'):\n",
    "            Troponin_dict['Completeness'].append(df_completeness)"
   ]
  },
  {
   "cell_type": "markdown",
   "id": "06ba12e1",
   "metadata": {},
   "source": [
    "### Concateness dataframes using UNION ALL"
   ]
  },
  {
   "cell_type": "code",
   "execution_count": 20,
   "id": "a8fa05e9",
   "metadata": {},
   "outputs": [],
   "source": [
    "CHF_Completeness = pd.concat(CHF_BNP_dict['Completeness'],ignore_index=True)\n",
    "CHF_PHI = pd.concat(CHF_BNP_dict['PHI'],ignore_index=True)\n",
    "\n",
    "MB_Completeness = pd.concat(MB_dict['Completeness'],ignore_index=True)\n",
    "MB_PHI = pd.concat(MB_dict['PHI'],ignore_index=True)\n",
    "\n",
    "Sepsis_Completeness = pd.concat(Sepsis_dict['Completeness'],ignore_index=True)\n",
    "Sepsis_PHI = pd.concat(Sepsis_dict['PHI'],ignore_index=True)\n",
    "\n",
    "Tropnonin_Completeness = pd.concat(Troponin_dict['Completeness'],ignore_index=True)\n",
    "Troponin_PHI = pd.concat(Troponin_dict['PHI'],ignore_index=True)"
   ]
  },
  {
   "cell_type": "markdown",
   "id": "ef57fb65",
   "metadata": {},
   "source": [
    "### Write to csv files in a new folder"
   ]
  },
  {
   "cell_type": "code",
   "execution_count": 21,
   "id": "45eeddff",
   "metadata": {},
   "outputs": [],
   "source": [
    "#test\n",
    "equity_filepath = os.path.join(os.path.join(equity_filepath.rsplit('\\\\', 1)[0],'combined_files_v2'))"
   ]
  },
  {
   "cell_type": "code",
   "execution_count": 23,
   "id": "8d26fce0",
   "metadata": {},
   "outputs": [
    {
     "name": "stdout",
     "output_type": "stream",
     "text": [
      "True\n"
     ]
    }
   ],
   "source": [
    "isExist = os.path.exists(os.path.join(equity_filepath,'CHF_BNP'))\n",
    "print(isExist)"
   ]
  },
  {
   "cell_type": "code",
   "execution_count": 24,
   "id": "7cdd9a63",
   "metadata": {},
   "outputs": [],
   "source": [
    "if os.path.exists(os.path.join(equity_filepath,'CHF_BNP')) == False:\n",
    "    os.mkdir(os.path.join(equity_filepath,'CHF_BNP'))\n",
    "if os.path.exists(os.path.join(equity_filepath,'MaternalBleeding')) == False:\n",
    "    os.mkdir(os.path.join(equity_filepath,'MaternalBleeding'))\n",
    "if os.path.exists(os.path.join(equity_filepath,'Sepsis')) == False:\n",
    "    os.mkdir(os.path.join(equity_filepath,'Sepsis'))\n",
    "if os.path.exists(os.path.join(equity_filepath,'Troponin')) == False:\n",
    "    os.mkdir(os.path.join(equity_filepath,'Troponin'))\n",
    "#os.mkdir(os.path.join(equity_filepath,'MaternalBleeding'))\n",
    "#os.mkdir(os.path.join(equity_filepath,'Sepsis'))\n",
    "#os.mkdir(os.path.join(equity_filepath,'Troponin'))"
   ]
  },
  {
   "cell_type": "code",
   "execution_count": 25,
   "id": "81874782",
   "metadata": {},
   "outputs": [],
   "source": [
    "CHF_Completeness.to_csv(os.path.join(os.path.join(equity_filepath.rsplit('\\\\', 1)[0],'combined_files_v2'),'CHF_BNP','CHF_Completeness.csv'),index=False)\n",
    "CHF_PHI.to_csv(os.path.join(os.path.join(equity_filepath.rsplit('\\\\', 1)[0],'combined_files_v2'),'CHF_BNP','CHF_PHI.csv'),index=False)\n",
    "\n",
    "MB_Completeness.to_csv(os.path.join(os.path.join(equity_filepath.rsplit('\\\\', 1)[0],'combined_files_v2'),'MaternalBleeding','MB_Completeness.csv'),index=False)\n",
    "MB_PHI.to_csv(os.path.join(os.path.join(equity_filepath.rsplit('\\\\', 1)[0],'combined_files_v2'),'MaternalBleeding','MB_PHI.csv'),index=False)\n",
    "\n",
    "Sepsis_Completeness.to_csv(os.path.join(os.path.join(equity_filepath.rsplit('\\\\', 1)[0],'combined_files_v2'),'Sepsis','Sepsis_LAQ_Completeness.csv'),index=False)\n",
    "Sepsis_PHI.to_csv(os.path.join(os.path.join(equity_filepath.rsplit('\\\\', 1)[0],'combined_files_v2'),'Sepsis','Sepsis_PHI.csv'),index=False)\n",
    "\n",
    "Tropnonin_Completeness.to_csv(os.path.join(os.path.join(equity_filepath.rsplit('\\\\', 1)[0],'combined_files_v2'),'Troponin','Troponin_Completeness.csv'),index=False)\n",
    "Troponin_PHI.to_csv(os.path.join(os.path.join(equity_filepath.rsplit('\\\\', 1)[0],'combined_files_v2'),'Troponin','Troponin_PHI.csv'),index=False)"
   ]
  },
  {
   "cell_type": "code",
   "execution_count": null,
   "id": "0371be14",
   "metadata": {},
   "outputs": [],
   "source": []
  },
  {
   "cell_type": "code",
   "execution_count": null,
   "id": "fcf288fc",
   "metadata": {},
   "outputs": [],
   "source": []
  },
  {
   "cell_type": "code",
   "execution_count": null,
   "id": "d0f2d095",
   "metadata": {},
   "outputs": [],
   "source": []
  },
  {
   "cell_type": "markdown",
   "id": "ae03a3c4",
   "metadata": {},
   "source": [
    "# Labs"
   ]
  },
  {
   "cell_type": "code",
   "execution_count": 35,
   "id": "7a5bcc05",
   "metadata": {},
   "outputs": [],
   "source": [
    "labs_filepath = r'P:\\Datastore02\\Analytics\\230 Inpatient Quality Composite\\data\\Lab Data\\fy22\\013_aug_fytd\\all_files_uncombined'"
   ]
  },
  {
   "cell_type": "code",
   "execution_count": 39,
   "id": "9d072f63",
   "metadata": {
    "scrolled": true
   },
   "outputs": [
    {
     "name": "stdout",
     "output_type": "stream",
     "text": [
      "Hypoglycemia_140062_140242_072021_062022\n",
      "Hypoglycemia_Numerator_PHI.csv\n",
      "Hypoglycemia_Denominator_PHI.csv\n",
      "Hypoglycemia_Completeness.csv\n",
      "Hypoglycemia_140062_140242_072022\n",
      "Hypoglycemia_Numerator_PHI.csv\n",
      "Hypoglycemia_Denominator_PHI.csv\n",
      "Hypoglycemia_Completeness.csv\n",
      "Hypoglycemia_140281_149916_072021_062022\n",
      "Hypoglycemia_Numerator_PHI.csv\n",
      "Hypoglycemia_Denominator_PHI.csv\n",
      "Hypoglycemia_Completeness.csv\n",
      "Hypoglycemia_140281_149916_072022\n",
      "Hypoglycemia_Numerator_PHI.csv\n",
      "Hypoglycemia_Denominator_PHI.csv\n",
      "Hypoglycemia_Completeness.csv\n",
      "Lactate_140062_140242_072021_062022\n",
      "Lactate_Numerator_PHI.csv\n",
      "Lactate_Denominator_PHI.csv\n",
      "Lactate_Completenes.csv\n",
      "Lactate_140062_140242_072022\n",
      "Lactate_Numerator_PHI.csv\n",
      "Lactate_Denominator_PHI.csv\n",
      "Lactate_Completenes.csv\n",
      "Lactate_140281_149916_072021_062022\n",
      "Lactate_Numerator_PHI.csv\n",
      "Lactate_Denominator_PHI.csv\n",
      "Lactate_Completenes.csv\n",
      "Lactate_140281_149916_072022\n",
      "Lactate_Numerator_PHI.csv\n",
      "Lactate_Denominator_PHI.csv\n",
      "Lactate_Completenes.csv\n",
      "Transfusion_140062_140242_072021_062022\n",
      "Transfusion_Numerator_PHI.csv\n",
      "Transfusion_Denominator_PHI.csv\n",
      "Transfusion_Completeness.csv\n",
      "Transfusion_140062_140242_072022\n",
      "Transfusion_Numerator_PHI.csv\n",
      "Transfusion_Denominator_PHI.csv\n",
      "Transfusion_Completeness.csv\n",
      "numerator file empty\n",
      "Transfusion_140281_149916_072021_062022\n",
      "Transfusion_Numerator_PHI.csv\n",
      "Transfusion_Denominator_PHI.csv\n",
      "Transfusion_Completeness.csv\n",
      "Transfusion_140281_149916_072022\n",
      "Transfusion_Numerator_PHI.csv\n",
      "Transfusion_Denominator_PHI.csv\n",
      "Transfusion_Completeness.csv\n",
      "numerator file empty\n",
      "Warfarin_140062_140242_072021_062022\n",
      "Warfarin_Numerator_PHI.csv\n",
      "Warfarin_Denominator_PHI.csv\n",
      "Warfarin_Completeness.csv\n",
      "Warfarin_140062_140242_072022\n",
      "Warfarin_Numerator_PHI.csv\n",
      "Warfarin_Denominator_PHI.csv\n",
      "Warfarin_Completeness.csv\n",
      "Warfarin_140281_149916_072021_062022\n",
      "Warfarin_Numerator_PHI.csv\n",
      "Warfarin_Denominator_PHI.csv\n",
      "Warfarin_Completeness.csv\n",
      "Warfarin_140281_149916_072022\n",
      "Warfarin_Numerator_PHI.csv\n",
      "Warfarin_Denominator_PHI.csv\n",
      "Warfarin_Completeness.csv\n"
     ]
    }
   ],
   "source": [
    "Hypoglycemia_140062_140242_dict = {'NUM_PHI':[],'DENOM_PHI':[], 'Completeness':[]}\n",
    "Hypoglycemia_140281_149916_dict = {'NUM_PHI':[],'DENOM_PHI':[], 'Completeness':[]}\n",
    "\n",
    "Lactate_140062_140242_dict = {'NUM_PHI':[],'DENOM_PHI':[], 'Completeness':[]}\n",
    "Lactate_140281_149916_dict = {'NUM_PHI':[],'DENOM_PHI':[], 'Completeness':[]}\n",
    "\n",
    "Transfusion_140062_140242_dict = {'NUM_PHI':[],'DENOM_PHI':[], 'Completeness':[]}\n",
    "Transfusion_140281_149916_dict = {'NUM_PHI':[],'DENOM_PHI':[], 'Completeness':[]}\n",
    "\n",
    "Warfarin_140062_140242_dict = {'NUM_PHI':[],'DENOM_PHI':[], 'Completeness':[]}\n",
    "Warfarin_140281_149916_dict = {'NUM_PHI':[],'DENOM_PHI':[], 'Completeness':[]}\n",
    "\n",
    "def append_value(folder_item,dict_val, df):\n",
    "            \n",
    "    if folder_item.startswith('Hypoglycemia_140062_140242'):\n",
    "        Hypoglycemia_140062_140242_dict[dict_val].append(df)\n",
    "\n",
    "    elif folder_item.startswith('Hypoglycemia_140281_149916'):\n",
    "\n",
    "        Hypoglycemia_140281_149916_dict[dict_val].append(df)\n",
    "\n",
    "    elif folder_item.startswith('Lactate_140062_140242'):\n",
    "\n",
    "        Lactate_140062_140242_dict[dict_val].append(df) \n",
    "\n",
    "    elif folder_item.startswith('Lactate_140281_149916'):\n",
    "\n",
    "        Lactate_140281_149916_dict[dict_val].append(df) \n",
    "\n",
    "    elif folder_item.startswith('Transfusion_140062_140242'):\n",
    "\n",
    "        Transfusion_140062_140242_dict[dict_val].append(df) \n",
    "\n",
    "    elif folder_item.startswith('Transfusion_140281_149916'):\n",
    "\n",
    "        Transfusion_140281_149916_dict[dict_val].append(df) \n",
    "\n",
    "    elif folder_item.startswith('Warfarin_140062_140242'):\n",
    "\n",
    "        Warfarin_140062_140242_dict[dict_val].append(df) \n",
    "\n",
    "    elif folder_item.startswith('Warfarin_140281_149916'):\n",
    "\n",
    "        Warfarin_140281_149916_dict[dict_val].append(df) \n",
    "\n",
    "\n",
    "for i,item in enumerate(os.listdir(labs_filepath)):\n",
    "    if item.endswith('.zip') == False:\n",
    "        num_phi_list = [i for i in os.listdir(os.path.join(labs_filepath,item)) if 'NUMERATOR_PHI' in i.upper()]\n",
    "        denom_phi_list = [i for i in os.listdir(os.path.join(labs_filepath,item)) if 'DENOMINATOR_PHI' in i.upper()]\n",
    "        completeness_list = [i for i in os.listdir(os.path.join(labs_filepath,item)) if '_COMPLETENES' in i.upper()]\n",
    "        \n",
    "        print(item)\n",
    "        print(num_phi_list[0])\n",
    "        print(denom_phi_list[0])\n",
    "        print(completeness_list[0])\n",
    "        \n",
    "        try:\n",
    "            df_num_phi = pd.read_csv(os.path.join(os.path.abspath(labs_filepath),item,num_phi_list[0]))\n",
    "            append_value(item,'NUM_PHI', df_num_phi) \n",
    "        except:\n",
    "            print('numerator file empty')\n",
    "        \n",
    "        df_denom_phi = pd.read_csv(os.path.join(os.path.abspath(labs_filepath),item,denom_phi_list[0]))\n",
    "        \n",
    "        df_completeness = pd.read_csv(os.path.join(os.path.abspath(labs_filepath),item,completeness_list[0]))\n",
    "        \n",
    "        append_value(item,'DENOM_PHI', df_denom_phi)  \n",
    "        \n",
    "        append_value(item,'Completeness', df_completeness) \n",
    "        "
   ]
  },
  {
   "cell_type": "code",
   "execution_count": 43,
   "id": "fdaeac86",
   "metadata": {},
   "outputs": [],
   "source": [
    "Hypoglycemia_140062_140242_Completeness = pd.concat(Hypoglycemia_140062_140242_dict['Completeness'],ignore_index=True)\n",
    "Hypoglycemia_140062_140242_NUM_PHI = pd.concat(Hypoglycemia_140062_140242_dict['NUM_PHI'],ignore_index=True)\n",
    "Hypoglycemia_140062_140242_DENOM_PHI = pd.concat(Hypoglycemia_140062_140242_dict['DENOM_PHI'],ignore_index=True)\n",
    "\n",
    "Hypoglycemia_140281_149916_Completeness = pd.concat(Hypoglycemia_140281_149916_dict['Completeness'],ignore_index=True)\n",
    "Hypoglycemia_140281_149916_NUM_PHI = pd.concat(Hypoglycemia_140281_149916_dict['NUM_PHI'],ignore_index=True)\n",
    "Hypoglycemia_140281_149916_DENOM_PHI = pd.concat(Hypoglycemia_140281_149916_dict['DENOM_PHI'],ignore_index=True)\n",
    "\n",
    "Lactate_140062_140242_Completeness = pd.concat(Lactate_140062_140242_dict['Completeness'],ignore_index=True)\n",
    "Lactate_140062_140242_NUM_PHI = pd.concat(Lactate_140062_140242_dict['NUM_PHI'],ignore_index=True)\n",
    "Lactate_140062_140242_DENOM_PHI = pd.concat(Lactate_140062_140242_dict['DENOM_PHI'],ignore_index=True)\n",
    "\n",
    "Lactate_140281_149916_Completeness = pd.concat(Lactate_140281_149916_dict['Completeness'],ignore_index=True)\n",
    "Lactate_140281_149916_NUM_PHI = pd.concat(Lactate_140281_149916_dict['NUM_PHI'],ignore_index=True)\n",
    "Lactate_140281_149916_DENOM_PHI = pd.concat(Lactate_140281_149916_dict['DENOM_PHI'],ignore_index=True)\n",
    "\n",
    "Transfusion_140062_140242_Completeness = pd.concat(Transfusion_140062_140242_dict['Completeness'],ignore_index=True)\n",
    "Transfusion_140062_140242_NUM_PHI = pd.concat(Transfusion_140062_140242_dict['NUM_PHI'],ignore_index=True)\n",
    "Transfusion_140062_140242_DENOM_PHI = pd.concat(Transfusion_140062_140242_dict['DENOM_PHI'],ignore_index=True)\n",
    "\n",
    "Transfusion_140281_149916_Completeness = pd.concat(Transfusion_140281_149916_dict['Completeness'],ignore_index=True)\n",
    "Transfusion_140281_149916_NUM_PHI = pd.concat(Transfusion_140281_149916_dict['NUM_PHI'],ignore_index=True)\n",
    "Transfusion_140281_149916_DENOM_PHI = pd.concat(Transfusion_140281_149916_dict['DENOM_PHI'],ignore_index=True)\n",
    "\n",
    "Warfarin_140062_140242_Completeness = pd.concat(Warfarin_140062_140242_dict['Completeness'],ignore_index=True)\n",
    "Warfarin_140062_140242_NUM_PHI = pd.concat(Warfarin_140062_140242_dict['NUM_PHI'],ignore_index=True)\n",
    "Warfarin_140062_140242_DENOM_PHI = pd.concat(Warfarin_140062_140242_dict['DENOM_PHI'],ignore_index=True)\n",
    "\n",
    "Warfarin_140281_149916_Completeness = pd.concat(Warfarin_140281_149916_dict['Completeness'],ignore_index=True)\n",
    "Warfarin_140281_149916_NUM_PHI = pd.concat(Warfarin_140281_149916_dict['NUM_PHI'],ignore_index=True)\n",
    "Warfarin_140281_149916_DENOM_PHI = pd.concat(Warfarin_140281_149916_dict['DENOM_PHI'],ignore_index=True)"
   ]
  },
  {
   "cell_type": "code",
   "execution_count": 45,
   "id": "23095157",
   "metadata": {},
   "outputs": [
    {
     "data": {
      "text/plain": [
       "'P:\\\\Datastore02\\\\Analytics\\\\230 Inpatient Quality Composite\\\\data\\\\Lab Data\\\\fy22\\\\013_aug_fytd\\\\combined_files'"
      ]
     },
     "execution_count": 45,
     "metadata": {},
     "output_type": "execute_result"
    }
   ],
   "source": [
    "labs_filepath = os.path.join(labs_filepath.rsplit('\\\\', 1)[0],'combined_files')\n",
    "labs_filepath"
   ]
  },
  {
   "cell_type": "code",
   "execution_count": 50,
   "id": "391f5f7e",
   "metadata": {},
   "outputs": [],
   "source": [
    "if os.path.exists(os.path.join(labs_filepath)) == False:\n",
    "    os.mkdir(os.path.join(labs_filepath))\n",
    "if os.path.exists(os.path.join(labs_filepath,'Hypoglycemia_140062_140242')) == False:\n",
    "    os.mkdir(os.path.join(labs_filepath,'Hypoglycemia_140062_140242'))\n",
    "if os.path.exists(os.path.join(labs_filepath,'Hypoglycemia_140281_149916')) == False:\n",
    "    os.mkdir(os.path.join(labs_filepath,'Hypoglycemia_140281_149916'))\n",
    "if os.path.exists(os.path.join(labs_filepath,'Lactate_140062_140242')) == False:\n",
    "    os.mkdir(os.path.join(labs_filepath,'Lactate_140062_140242'))\n",
    "if os.path.exists(os.path.join(labs_filepath,'Lactate_140281_149916')) == False:\n",
    "    os.mkdir(os.path.join(labs_filepath,'Lactate_140281_149916'))\n",
    "    \n",
    "if os.path.exists(os.path.join(labs_filepath,'Transfusion_140062_140242')) == False:\n",
    "    os.mkdir(os.path.join(labs_filepath,'Transfusion_140062_140242'))\n",
    "if os.path.exists(os.path.join(labs_filepath,'Transfusion_140281_149916')) == False:\n",
    "    os.mkdir(os.path.join(labs_filepath,'Transfusion_140281_149916'))\n",
    "if os.path.exists(os.path.join(labs_filepath,'Warfarin_140062_140242')) == False:\n",
    "    os.mkdir(os.path.join(labs_filepath,'Warfarin_140062_140242'))\n",
    "if os.path.exists(os.path.join(labs_filepath,'Warfarin_140281_149916')) == False:\n",
    "    os.mkdir(os.path.join(labs_filepath,'Warfarin_140281_149916'))"
   ]
  },
  {
   "cell_type": "code",
   "execution_count": 51,
   "id": "e5def43e",
   "metadata": {},
   "outputs": [],
   "source": [
    "Hypoglycemia_140062_140242_Completeness.to_csv(os.path.join(os.path.join(labs_filepath.rsplit('\\\\', 1)[0],'combined_files'),'Hypoglycemia_140062_140242','Hypoglycemia_Completeness.csv'),index=False)\n",
    "Hypoglycemia_140062_140242_NUM_PHI.to_csv(os.path.join(os.path.join(labs_filepath.rsplit('\\\\', 1)[0],'combined_files'),'Hypoglycemia_140062_140242','Hypoglycemia_Numerator_PHI.csv'),index=False)\n",
    "Hypoglycemia_140062_140242_DENOM_PHI.to_csv(os.path.join(os.path.join(labs_filepath.rsplit('\\\\', 1)[0],'combined_files'),'Hypoglycemia_140062_140242','Hypoglycemia_Denominator_PHI.csv'),index=False)\n",
    "\n",
    "Hypoglycemia_140281_149916_Completeness.to_csv(os.path.join(os.path.join(labs_filepath.rsplit('\\\\', 1)[0],'combined_files'),'Hypoglycemia_140281_149916','Hypoglycemia_Completeness.csv'),index=False)\n",
    "Hypoglycemia_140281_149916_NUM_PHI.to_csv(os.path.join(os.path.join(labs_filepath.rsplit('\\\\', 1)[0],'combined_files'),'Hypoglycemia_140281_149916','Hypoglycemia_Numerator_PHI.csv'),index=False)\n",
    "Hypoglycemia_140281_149916_DENOM_PHI.to_csv(os.path.join(os.path.join(labs_filepath.rsplit('\\\\', 1)[0],'combined_files'),'Hypoglycemia_140281_149916','Hypoglycemia_Denominator_PHI.csv'),index=False)\n",
    "\n",
    "Lactate_140062_140242_Completeness.to_csv(os.path.join(os.path.join(labs_filepath.rsplit('\\\\', 1)[0],'combined_files'),'Lactate_140062_140242','Lactate_Completeness.csv'),index=False)\n",
    "Lactate_140062_140242_NUM_PHI.to_csv(os.path.join(os.path.join(labs_filepath.rsplit('\\\\', 1)[0],'combined_files'),'Lactate_140062_140242','Lactate_Numerator_PHI.csv'),index=False)\n",
    "Lactate_140062_140242_DENOM_PHI.to_csv(os.path.join(os.path.join(labs_filepath.rsplit('\\\\', 1)[0],'combined_files'),'Lactate_140062_140242','Lactate_Denominator_PHI.csv'),index=False)\n",
    "\n",
    "Lactate_140281_149916_Completeness.to_csv(os.path.join(os.path.join(labs_filepath.rsplit('\\\\', 1)[0],'combined_files'),'Lactate_140281_149916','Lactate_Completeness.csv'),index=False)\n",
    "Lactate_140281_149916_NUM_PHI.to_csv(os.path.join(os.path.join(labs_filepath.rsplit('\\\\', 1)[0],'combined_files'),'Lactate_140281_149916','Lactate_Numerator_PHI.csv'),index=False)\n",
    "Lactate_140281_149916_DENOM_PHI.to_csv(os.path.join(os.path.join(labs_filepath.rsplit('\\\\', 1)[0],'combined_files'),'Lactate_140281_149916','Lactate_Denominator_PHI.csv'),index=False)\n",
    "\n",
    "\n",
    "Transfusion_140062_140242_Completeness.to_csv(os.path.join(os.path.join(labs_filepath.rsplit('\\\\', 1)[0],'combined_files'),'Transfusion_140062_140242','Transfusion_Completeness.csv'),index=False)\n",
    "Transfusion_140062_140242_NUM_PHI.to_csv(os.path.join(os.path.join(labs_filepath.rsplit('\\\\', 1)[0],'combined_files'),'Transfusion_140062_140242','Transfusion_Numerator_PHI.csv'),index=False)\n",
    "Transfusion_140062_140242_DENOM_PHI.to_csv(os.path.join(os.path.join(labs_filepath.rsplit('\\\\', 1)[0],'combined_files'),'Transfusion_140062_140242','Transfusion_Denominator_PHI.csv'),index=False)\n",
    "\n",
    "Transfusion_140281_149916_Completeness.to_csv(os.path.join(os.path.join(labs_filepath.rsplit('\\\\', 1)[0],'combined_files'),'Transfusion_140281_149916','Transfusion_Completeness.csv'),index=False)\n",
    "Transfusion_140281_149916_NUM_PHI.to_csv(os.path.join(os.path.join(labs_filepath.rsplit('\\\\', 1)[0],'combined_files'),'Transfusion_140281_149916','Transfusion_Numerator_PHI.csv'),index=False)\n",
    "Transfusion_140281_149916_DENOM_PHI.to_csv(os.path.join(os.path.join(labs_filepath.rsplit('\\\\', 1)[0],'combined_files'),'Transfusion_140281_149916','Transfusion_Denominator_PHI.csv'),index=False)\n",
    "\n",
    "Warfarin_140062_140242_Completeness.to_csv(os.path.join(os.path.join(labs_filepath.rsplit('\\\\', 1)[0],'combined_files'),'Warfarin_140062_140242','Warfarin_Completeness.csv'),index=False)\n",
    "Warfarin_140062_140242_NUM_PHI.to_csv(os.path.join(os.path.join(labs_filepath.rsplit('\\\\', 1)[0],'combined_files'),'Warfarin_140062_140242','Warfarin_Numerator_PHI.csv'),index=False)\n",
    "Warfarin_140062_140242_DENOM_PHI.to_csv(os.path.join(os.path.join(labs_filepath.rsplit('\\\\', 1)[0],'combined_files'),'Warfarin_140062_140242','Warfarin_Denominator_PHI.csv'),index=False)\n",
    "\n",
    "Warfarin_140281_149916_Completeness.to_csv(os.path.join(os.path.join(labs_filepath.rsplit('\\\\', 1)[0],'combined_files'),'Warfarin_140281_149916','Warfarin_Completeness.csv'),index=False)\n",
    "Warfarin_140281_149916_NUM_PHI.to_csv(os.path.join(os.path.join(labs_filepath.rsplit('\\\\', 1)[0],'combined_files'),'Warfarin_140281_149916','Warfarin_Numerator_PHI.csv'),index=False)\n",
    "Warfarin_140281_149916_DENOM_PHI.to_csv(os.path.join(os.path.join(labs_filepath.rsplit('\\\\', 1)[0],'combined_files'),'Warfarin_140281_149916','Warfarin_Denominator_PHI.csv'),index=False)"
   ]
  },
  {
   "cell_type": "code",
   "execution_count": null,
   "id": "b5aa8982",
   "metadata": {},
   "outputs": [],
   "source": []
  }
 ],
 "metadata": {
  "kernelspec": {
   "display_name": "py36env",
   "language": "python",
   "name": "py36env"
  },
  "language_info": {
   "codemirror_mode": {
    "name": "ipython",
    "version": 3
   },
   "file_extension": ".py",
   "mimetype": "text/x-python",
   "name": "python",
   "nbconvert_exporter": "python",
   "pygments_lexer": "ipython3",
   "version": "3.6.13"
  }
 },
 "nbformat": 4,
 "nbformat_minor": 5
}

{
 "cells": [
  {
   "cell_type": "code",
   "execution_count": 97,
   "metadata": {},
   "outputs": [],
   "source": [
    "import pandas as pd\n",
    "import pyodbc\n",
    "import openpyxl\n",
    "import os\n",
    "import re\n",
    "import numpy as np\n",
    "import math\n",
    "import requests"
   ]
  },
  {
   "cell_type": "markdown",
   "metadata": {},
   "source": [
    "### This is a helper file to create the hyperlink excel files found in 230 Inpatient Quality Composite/data/hyperlink data.  \n",
    "### These hyperlink files are used to create a lookup dictionary for the python script to iterate over and call each report template.\n",
    "### We use the original calculators as input then ouput a raw excel file for the python bot to loop over."
   ]
  },
  {
   "cell_type": "markdown",
   "metadata": {},
   "source": [
    "### NOTE:  ATTENTION:  There are a few errors on the TC worksheet that need to be manually fixed each time.  \n",
    "    *  DCOST Gen Med:  Missing hyperlink on all.\n",
    "    *  DCOST Gen Surg: Wrong hyperlink on all.  They provide the gen med template instead of gen surg.\n",
    "    *  DCOST OB/GYN:   Sometimes missing hyperlink\n",
    "    *  DCOST O/E Trauma:  Wrong hyperlink on all.  They provide the OB/GYN template instead of trauma."
   ]
  },
  {
   "cell_type": "code",
   "execution_count": 98,
   "metadata": {},
   "outputs": [],
   "source": [
    "#takes a file path and file name as input and returns an openpyxl workbook object.\n",
    "def get_wb_object(path_obj,file_obj):\n",
    "    file_loc = os.path.abspath(os.path.join(path_obj,file_obj))\n",
    "    wb = openpyxl.load_workbook(file_loc, data_only = True)\n",
    "    return(wb)"
   ]
  },
  {
   "cell_type": "code",
   "execution_count": 99,
   "metadata": {},
   "outputs": [],
   "source": [
    "#takes a file path and file name as input and returns a list of all worksheets within an openpyxl workbook object\n",
    "def grab_worksheet_list(path_obj,file_obj):\n",
    "    file_loc = os.path.abspath(os.path.join(path_obj,file_obj))\n",
    "    wb = openpyxl.load_workbook(file_loc, data_only = True)\n",
    "    sheet_list = wb.sheetnames\n",
    "    return(sheet_list)"
   ]
  },
  {
   "cell_type": "code",
   "execution_count": 100,
   "metadata": {},
   "outputs": [],
   "source": [
    "#does the same as above but takes a full file path + filename as input.\n",
    "def get_wb_object2(path_and_file):\n",
    "    #file_loc = os.path.abspath(os.path.join(path_obj,file_obj))\n",
    "    wb = openpyxl.load_workbook(path_and_file, data_only = True)\n",
    "    return(wb)"
   ]
  },
  {
   "cell_type": "code",
   "execution_count": 101,
   "metadata": {},
   "outputs": [],
   "source": [
    "#does the same as above but takes a full file path + filename as input.\n",
    "def grab_worksheet_list2(path_and_file):\n",
    "    #file_loc = os.path.abspath(os.path.join(path_obj,file_obj))\n",
    "    wb = openpyxl.load_workbook(path_and_file, data_only = True)\n",
    "    sheet_list = wb.sheetnames\n",
    "    return(sheet_list)"
   ]
  },
  {
   "cell_type": "code",
   "execution_count": 102,
   "metadata": {},
   "outputs": [],
   "source": [
    "calc_path = r'P:\\Datastore02\\Analytics\\230 Inpatient Quality Composite\\data\\calculator data\\original\\2023\\period3_original_with_proxies'\n",
    "calc_file = r'QACalculator_140211_Period3_2023.xlsm'"
   ]
  },
  {
   "cell_type": "code",
   "execution_count": null,
   "metadata": {},
   "outputs": [],
   "source": []
  },
  {
   "cell_type": "code",
   "execution_count": 103,
   "metadata": {},
   "outputs": [
    {
     "data": {
      "text/plain": [
       "'\\nHospital\\nKeyword/Metric\\nMean\\nSD\\nTransformation\\nmetric_direction\\nshift_value\\nFormal Name\\nHyperlink\\nJobStoreID\\nReportID\\nAdjustmentModel\\nAHRQ Version\\nDomain\\n'"
      ]
     },
     "execution_count": 103,
     "metadata": {},
     "output_type": "execute_result"
    }
   ],
   "source": [
    "# Columns And Order Needed in the final dataset:\n",
    "'''\n",
    "Hospital\n",
    "Keyword/Metric\n",
    "Mean\n",
    "SD\n",
    "Transformation\n",
    "metric_direction\n",
    "shift_value\n",
    "Formal Name\n",
    "Hyperlink\n",
    "JobStoreID\n",
    "ReportID\n",
    "AdjustmentModel\n",
    "AHRQ Version\n",
    "Domain\n",
    "'''\n"
   ]
  },
  {
   "cell_type": "markdown",
   "metadata": {},
   "source": [
    "#### Grab the excel workbook object into a variable ###"
   ]
  },
  {
   "cell_type": "code",
   "execution_count": 104,
   "metadata": {},
   "outputs": [],
   "source": [
    "calc_wb = get_wb_object(calc_path,calc_file)"
   ]
  },
  {
   "cell_type": "markdown",
   "metadata": {},
   "source": [
    "#### Grab the 'TC' worksheet into a pandas dataframe ####"
   ]
  },
  {
   "cell_type": "code",
   "execution_count": 105,
   "metadata": {},
   "outputs": [
    {
     "data": {
      "text/plain": [
       "['Calculator',\n",
       " 'What If-Rank',\n",
       " 'TC',\n",
       " 'CurrentQA Cumulative-Metric',\n",
       " 'CurrentQA Cumulative-Rank',\n",
       " 'Metric Weights',\n",
       " 'Percentile Distribution',\n",
       " 'Data Periods']"
      ]
     },
     "execution_count": 105,
     "metadata": {},
     "output_type": "execute_result"
    }
   ],
   "source": [
    "calc_wb.sheetnames"
   ]
  },
  {
   "cell_type": "code",
   "execution_count": 106,
   "metadata": {},
   "outputs": [],
   "source": [
    "# TC hyperlink column we want:\n",
    "# 2019 Period 4:  Hyperlink from Peter\n",
    "# 2020 Period 1:  Hyperlink from Peter\n",
    "# 2020 Period 1 community:  Hyperlink from Peter\n",
    "# 2020 Period 2:  Hyperlink from Peter\n",
    "# 2020 Period 2 community:  Hyperlink from Peter\n",
    "# 2021 Period 2:  Hyperlink from Peter\n",
    "# 2021 Period 3:  Hyperlink from Peter"
   ]
  },
  {
   "cell_type": "code",
   "execution_count": 107,
   "metadata": {},
   "outputs": [],
   "source": [
    "df = pd.DataFrame(calc_wb['TC'].values)"
   ]
  },
  {
   "cell_type": "markdown",
   "metadata": {},
   "source": [
    "#### In openpyxl, the headers are read in as numbers.  The first index row is actually the header (if there is one).  Rename the headers using the first index row.  I'm probably forgetting some parameter here.  Will investigate later ###"
   ]
  },
  {
   "cell_type": "code",
   "execution_count": 108,
   "metadata": {},
   "outputs": [],
   "source": [
    "df = df.rename(columns=df.iloc[0])"
   ]
  },
  {
   "cell_type": "code",
   "execution_count": 109,
   "metadata": {},
   "outputs": [],
   "source": [
    "df = df.drop([0])"
   ]
  },
  {
   "cell_type": "markdown",
   "metadata": {},
   "source": [
    "#### Remove all rows where the 'Keyword/Metric' column is null.  This will remove a lot of the noise in the dataset.  In the original worksheet, there are nulls.  There are zeros.  Reading in using python creates nulls.  Therefore, replace nulls with zeros to match the original excel worksheet. ####"
   ]
  },
  {
   "cell_type": "code",
   "execution_count": 110,
   "metadata": {},
   "outputs": [],
   "source": [
    "df_all_row_indices =  df['Keyword/Metric'].notnull()\n",
    "df = df[df_all_row_indices]"
   ]
  },
  {
   "cell_type": "code",
   "execution_count": 111,
   "metadata": {},
   "outputs": [],
   "source": [
    "if 'Hyperlink from Peter' in list(df.columns):\n",
    "    df = df.rename(columns={\"Hyperlink from Peter\": \"Hyperlink\"})"
   ]
  },
  {
   "cell_type": "code",
   "execution_count": 112,
   "metadata": {},
   "outputs": [],
   "source": [
    "#replace None with 0\n",
    "df.Hyperlink.fillna(value=0, inplace=True)"
   ]
  },
  {
   "cell_type": "markdown",
   "metadata": {},
   "source": [
    "#### Create JobStoreID column using a substring of the url ####"
   ]
  },
  {
   "cell_type": "code",
   "execution_count": 113,
   "metadata": {},
   "outputs": [],
   "source": [
    "#extract the string between 'JobStoreID=' and the last '&'.  Then split the result on '&' to create a list.\n",
    "# element of the list should be the JobStoreID.\n",
    "df['JobStoreID1'] = df.Hyperlink.str.extract('.*JobStoreId=(.*)\\&.*')[0].str.split('&')"
   ]
  },
  {
   "cell_type": "code",
   "execution_count": null,
   "metadata": {},
   "outputs": [],
   "source": []
  },
  {
   "cell_type": "code",
   "execution_count": 114,
   "metadata": {},
   "outputs": [],
   "source": [
    "#Create placeholder column which will be conditionally updated withe the JobStoreID\n",
    "df['JobStoreID'] = 0"
   ]
  },
  {
   "cell_type": "code",
   "execution_count": 115,
   "metadata": {},
   "outputs": [
    {
     "name": "stderr",
     "output_type": "stream",
     "text": [
      "C:\\Python\\envs\\py36env\\lib\\site-packages\\pandas\\core\\indexing.py:670: SettingWithCopyWarning: \n",
      "A value is trying to be set on a copy of a slice from a DataFrame\n",
      "\n",
      "See the caveats in the documentation: https://pandas.pydata.org/pandas-docs/stable/user_guide/indexing.html#returning-a-view-versus-a-copy\n",
      "  iloc._setitem_with_indexer(indexer, value)\n"
     ]
    }
   ],
   "source": [
    "#Replace placeholder JobStoreID rows with the JobStoreID.  This is the first index of the split url.\n",
    "for i,item in enumerate(df['JobStoreID1']):\n",
    "    if type(item)  == list:\n",
    "        df['JobStoreID'].iloc[i] = df['JobStoreID1'].iloc[i][0]\n",
    "        #print(df['JobStoreID1'].iloc[i][0])\n",
    "    else:\n",
    "        #print(item)\n",
    "        pass"
   ]
  },
  {
   "cell_type": "code",
   "execution_count": 116,
   "metadata": {},
   "outputs": [],
   "source": [
    "#drop JobStoreID1 column because it is no longer required\n",
    "df = df.drop(['JobStoreID1'],axis=1)"
   ]
  },
  {
   "cell_type": "markdown",
   "metadata": {},
   "source": [
    "#### Do the same thing for ReportID"
   ]
  },
  {
   "cell_type": "code",
   "execution_count": 117,
   "metadata": {},
   "outputs": [],
   "source": [
    "df['ReportID1'] = df.Hyperlink.str.extract('.*TemplateReportId=(.*)\\&.*')[0].str.split('&')"
   ]
  },
  {
   "cell_type": "code",
   "execution_count": 118,
   "metadata": {},
   "outputs": [],
   "source": [
    "#Create placeholder column which will be conditionally updated withe the ReportID\n",
    "df['ReportID'] = 0"
   ]
  },
  {
   "cell_type": "code",
   "execution_count": 119,
   "metadata": {},
   "outputs": [],
   "source": [
    "#Replace placeholder JobStoreID rows with the JobStoreID.  This is the first index of the split url.\n",
    "for i,item in enumerate(df['ReportID1']):\n",
    "    if type(item)  == list:\n",
    "        df['ReportID'].iloc[i] = df['ReportID1'].iloc[i][0]\n",
    "    else:\n",
    "        pass"
   ]
  },
  {
   "cell_type": "code",
   "execution_count": 120,
   "metadata": {
    "scrolled": true
   },
   "outputs": [],
   "source": [
    "#drop ReportID1 column because it is no longer required\n",
    "df = df.drop(['ReportID1'],axis=1)"
   ]
  },
  {
   "cell_type": "code",
   "execution_count": 121,
   "metadata": {},
   "outputs": [
    {
     "data": {
      "text/plain": [
       "['Keyword/Metric',\n",
       " 'Mean',\n",
       " 'SD',\n",
       " 'Transformation',\n",
       " 't7',\n",
       " 't6',\n",
       " 't5',\n",
       " 't4',\n",
       " 't3',\n",
       " 't2',\n",
       " 't1',\n",
       " 'metric_direction',\n",
       " 'P5',\n",
       " 'P10',\n",
       " 'P15',\n",
       " 'P20',\n",
       " 'P25',\n",
       " 'P30',\n",
       " 'P35',\n",
       " 'P40',\n",
       " 'P45',\n",
       " 'P50',\n",
       " 'P55',\n",
       " 'P60',\n",
       " 'P65',\n",
       " 'P70',\n",
       " 'P75',\n",
       " 'P80',\n",
       " 'P85',\n",
       " 'P90',\n",
       " 'P95',\n",
       " 'shift_value',\n",
       " 'Formal Name',\n",
       " 'Hyperlink Final',\n",
       " 'Hyperlink',\n",
       " 'Medicare ID = ',\n",
       " '140211',\n",
       " 'JobStoreID',\n",
       " 'ReportID']"
      ]
     },
     "execution_count": 121,
     "metadata": {},
     "output_type": "execute_result"
    }
   ],
   "source": [
    "list(df.columns)"
   ]
  },
  {
   "cell_type": "code",
   "execution_count": 122,
   "metadata": {},
   "outputs": [
    {
     "data": {
      "text/plain": [
       "array(['Cleanliness/Quietness', 'DCOST O/E - Cardiology',\n",
       "       'DCOST O/E - CT Surgery', 'DCOST O/E - Gastroenterology',\n",
       "       'DCOST O/E - Medicine General', 'DCOST O/E - Neurology',\n",
       "       'DCOST O/E - Neurosurgery', 'DCOST O/E - OB/GYN',\n",
       "       'DCOST O/E - Oncology', 'DCOST O/E - Ortho/Spine',\n",
       "       'DCOST O/E - Pulmonary/Critical Care',\n",
       "       'DCOST O/E - Surgery General', 'DCOST O/E - Trauma',\n",
       "       'DCOST O/E - Urology', 'DCOST O/E - Vascular Surgery', 'Discharge',\n",
       "       'Doctor', 'Excess Days  - Cardiology', 'Excess Days - CT Surgery',\n",
       "       'Excess Days - Gastroenterology', 'Excess Days - Medicine General',\n",
       "       'Excess Days - Neurology', 'Excess Days - Neurosurgery',\n",
       "       'Excess Days - Oncology', 'Excess Days - Ortho/Spine',\n",
       "       'Excess Days - Pulmonary/Critical Care',\n",
       "       'Excess Days - Surgery General', 'Excess Days - Trauma',\n",
       "       'Excess Days - Vascular Surgery', 'Hypoglycemia in insulin use',\n",
       "       'LOS O/E - Cardiology', 'LOS O/E - CT Surgery',\n",
       "       'LOS O/E - Gastroenterology', 'LOS O/E - Medicine General',\n",
       "       'LOS O/E - Neurology', 'LOS O/E - Neurosurgery',\n",
       "       'LOS O/E - OB/GYN', 'LOS O/E - Oncology', 'LOS O/E - Ortho/Spine',\n",
       "       'LOS O/E - Pulmonary/Critical Care', 'LOS O/E - Surgery General',\n",
       "       'LOS O/E - Trauma', 'LOS O/E - Urology',\n",
       "       'LOS O/E - Vascular Surgery', 'Medications',\n",
       "       'Mortality O/E - Cardiology', 'Mortality O/E - CT Surgery',\n",
       "       'Mortality O/E - Gastroenterology',\n",
       "       'Mortality O/E - Medicine General', 'Mortality O/E - Neurology',\n",
       "       'Mortality O/E - Neurosurgery', 'Mortality O/E - Oncology',\n",
       "       'Mortality O/E - Ortho/Spine',\n",
       "       'Mortality O/E - Pulmonary/Critical Care',\n",
       "       'Mortality O/E - Surgery General', 'Mortality O/E - Trauma',\n",
       "       'Mortality O/E - Vascular Surgery',\n",
       "       'Missing Race or Ethnicity - Cardiology',\n",
       "       'Missing Race or Ethnicity - CT Surgery',\n",
       "       'Missing Race or Ethnicity - Emergency Dept',\n",
       "       'Missing Race or Ethnicity - Gastroenterology',\n",
       "       'Missing Race or Ethnicity - Medicine General',\n",
       "       'Missing Race or Ethnicity - Neurology',\n",
       "       'Missing Race or Ethnicity - Neonatal',\n",
       "       'Missing Race or Ethnicity - Neurosurgery',\n",
       "       'Missing Race or Ethnicity - OB/GYN',\n",
       "       'Missing Race or Ethnicity - Oncology',\n",
       "       'Missing Race or Ethnicity - Outpatient',\n",
       "       'Missing Race or Ethnicity - Ortho/Spine',\n",
       "       'Missing Race or Ethnicity - Pulmonary/Critical Care',\n",
       "       'Missing Race or Ethnicity - Surgery General',\n",
       "       'Missing Race or Ethnicity - Trauma',\n",
       "       'Missing Race or Ethnicity - Urology',\n",
       "       'Missing Race or Ethnicity - Vascular Surgery', 'NHSN-CAUTI SIR',\n",
       "       'NHSN-CDI SIR', 'NHSN-CLABSI SIR', 'NHSN-SSI-COLO/HYST SIR',\n",
       "       'Nurse', 'Overall', 'PSI-03 O/E', 'PSI-06 O/E', 'PSI-09 O/E',\n",
       "       'PSI-11 O/E', 'PSI-13 O/E', 'OP Procedure Revisits - Arthroscopy',\n",
       "       'Readmission - Cardiology', 'OP Procedure Revisits - Biliary',\n",
       "       'OP Procedure Revisits - Colonoscopy', 'Readmission - CT Surgery',\n",
       "       'Readmission - Gastroenterology', 'Readmission - Medicine General',\n",
       "       'Readmission - Neurology', 'Readmission - Neurosurgery',\n",
       "       'Readmission - Oncology', 'Readmission - Ortho/Spine',\n",
       "       'Readmission - Pulmonary/Critical Care',\n",
       "       'Readmission - Surgery General', 'Readmission - Trauma',\n",
       "       'OP Procedure Revisits - Urological',\n",
       "       'Readmission - Vascular Surgery', 'Responsiveness',\n",
       "       'Sepsis lactate', 'Transition of Care', None, 'THK Complication',\n",
       "       'Transfusion', 'Warfarin elevated INR'], dtype=object)"
      ]
     },
     "execution_count": 122,
     "metadata": {},
     "output_type": "execute_result"
    }
   ],
   "source": [
    "df['Formal Name'].unique()"
   ]
  },
  {
   "cell_type": "code",
   "execution_count": 123,
   "metadata": {},
   "outputs": [],
   "source": [
    "#query the db to vizient qa\n",
    "conn = pyodbc.connect('Driver={SQL Server};'\n",
    "                      'Server=edw00pd05wva.corp.nm.org\\EDWIDS1;'\n",
    "                      'Database=clarity;'\n",
    "                     'Trusted_Connection=yes;')"
   ]
  },
  {
   "cell_type": "code",
   "execution_count": 124,
   "metadata": {},
   "outputs": [],
   "source": [
    "all_domains = '''\n",
    "          SELECT\n",
    "         distinct\n",
    "         m.measure_name as [Formal Name]\n",
    "         --,d.domain_id\n",
    "         ,d.domain_nm as Domain\n",
    "         FROM\n",
    "         NM_Analytics_Prototype.vizient_qa.measure as m\n",
    "         join NM_Analytics_Prototype.vizient_qa.domain as d\n",
    "         on m.domain_id = d.domain_id\n",
    "        '''\n",
    "\n",
    "#read query results into pandas dataframe\n",
    "meas_domain_df = pd.DataFrame(pd.read_sql(all_domains,conn))\n",
    "#close the db connection\n",
    "conn.close()\n"
   ]
  },
  {
   "cell_type": "markdown",
   "metadata": {},
   "source": [
    "#### left join the domain data to the main dataframe"
   ]
  },
  {
   "cell_type": "code",
   "execution_count": 125,
   "metadata": {},
   "outputs": [],
   "source": [
    "df = df.merge(meas_domain_df, on='Formal Name', how='left')"
   ]
  },
  {
   "cell_type": "code",
   "execution_count": 126,
   "metadata": {},
   "outputs": [
    {
     "data": {
      "text/html": [
       "<div>\n",
       "<style scoped>\n",
       "    .dataframe tbody tr th:only-of-type {\n",
       "        vertical-align: middle;\n",
       "    }\n",
       "\n",
       "    .dataframe tbody tr th {\n",
       "        vertical-align: top;\n",
       "    }\n",
       "\n",
       "    .dataframe thead th {\n",
       "        text-align: right;\n",
       "    }\n",
       "</style>\n",
       "<table border=\"1\" class=\"dataframe\">\n",
       "  <thead>\n",
       "    <tr style=\"text-align: right;\">\n",
       "      <th></th>\n",
       "      <th>Keyword/Metric</th>\n",
       "      <th>Mean</th>\n",
       "      <th>SD</th>\n",
       "      <th>Transformation</th>\n",
       "      <th>t7</th>\n",
       "      <th>t6</th>\n",
       "      <th>t5</th>\n",
       "      <th>t4</th>\n",
       "      <th>t3</th>\n",
       "      <th>t2</th>\n",
       "      <th>...</th>\n",
       "      <th>P95</th>\n",
       "      <th>shift_value</th>\n",
       "      <th>Formal Name</th>\n",
       "      <th>Hyperlink Final</th>\n",
       "      <th>Hyperlink</th>\n",
       "      <th>Medicare ID =</th>\n",
       "      <th>140211</th>\n",
       "      <th>JobStoreID</th>\n",
       "      <th>ReportID</th>\n",
       "      <th>Domain</th>\n",
       "    </tr>\n",
       "  </thead>\n",
       "  <tbody>\n",
       "    <tr>\n",
       "      <th>0</th>\n",
       "      <td>CLEANQUIET</td>\n",
       "      <td>62.9327412163368</td>\n",
       "      <td>6.42654633351189</td>\n",
       "      <td>1</td>\n",
       "      <td>82.2124</td>\n",
       "      <td>75.7858</td>\n",
       "      <td>69.3593</td>\n",
       "      <td>62.9327</td>\n",
       "      <td>56.5062</td>\n",
       "      <td>50.0796</td>\n",
       "      <td>...</td>\n",
       "      <td>72.9683</td>\n",
       "      <td>0</td>\n",
       "      <td>Cleanliness/Quietness</td>\n",
       "      <td>None</td>\n",
       "      <td>#N/A</td>\n",
       "      <td>None</td>\n",
       "      <td>None</td>\n",
       "      <td>0</td>\n",
       "      <td>0</td>\n",
       "      <td>Patient Centeredness</td>\n",
       "    </tr>\n",
       "    <tr>\n",
       "      <th>1</th>\n",
       "      <td>DCOST_CARD</td>\n",
       "      <td>1.13007289239593</td>\n",
       "      <td>0.27419450607155</td>\n",
       "      <td>2</td>\n",
       "      <td>1.95266</td>\n",
       "      <td>1.67846</td>\n",
       "      <td>1.40427</td>\n",
       "      <td>1.13007</td>\n",
       "      <td>0.855878</td>\n",
       "      <td>0.581684</td>\n",
       "      <td>...</td>\n",
       "      <td>1.66148</td>\n",
       "      <td>0</td>\n",
       "      <td>DCOST O/E - Cardiology</td>\n",
       "      <td>https://cdprm.vizientinc.com/CDPrm/web/reports...</td>\n",
       "      <td>https://cdprm.vizientinc.com/CDPrm/web/reports...</td>\n",
       "      <td>&amp;medicareid=140211</td>\n",
       "      <td>https://cdprm.vizientinc.com/CDPrm/web/reports...</td>\n",
       "      <td>14995</td>\n",
       "      <td>3110</td>\n",
       "      <td>Efficiency</td>\n",
       "    </tr>\n",
       "    <tr>\n",
       "      <th>2</th>\n",
       "      <td>DCOST_CT</td>\n",
       "      <td>1.12317599395296</td>\n",
       "      <td>0.25236747031731</td>\n",
       "      <td>2</td>\n",
       "      <td>1.88028</td>\n",
       "      <td>1.62791</td>\n",
       "      <td>1.37554</td>\n",
       "      <td>1.12318</td>\n",
       "      <td>0.870809</td>\n",
       "      <td>0.618441</td>\n",
       "      <td>...</td>\n",
       "      <td>1.51745</td>\n",
       "      <td>0</td>\n",
       "      <td>DCOST O/E - CT Surgery</td>\n",
       "      <td>https://cdprm.vizientinc.com/CDPrm/web/reports...</td>\n",
       "      <td>https://cdprm.vizientinc.com/CDPrm/web/reports...</td>\n",
       "      <td>&amp;medicareid=140211</td>\n",
       "      <td>https://cdprm.vizientinc.com/CDPrm/web/reports...</td>\n",
       "      <td>14996</td>\n",
       "      <td>3111</td>\n",
       "      <td>Efficiency</td>\n",
       "    </tr>\n",
       "    <tr>\n",
       "      <th>3</th>\n",
       "      <td>DCOST_GASTRO</td>\n",
       "      <td>1.12441642891766</td>\n",
       "      <td>0.28940466592906</td>\n",
       "      <td>2</td>\n",
       "      <td>1.99263</td>\n",
       "      <td>1.70323</td>\n",
       "      <td>1.41382</td>\n",
       "      <td>1.12442</td>\n",
       "      <td>0.835012</td>\n",
       "      <td>0.545607</td>\n",
       "      <td>...</td>\n",
       "      <td>1.71865</td>\n",
       "      <td>0</td>\n",
       "      <td>DCOST O/E - Gastroenterology</td>\n",
       "      <td>https://cdprm.vizientinc.com/CDPrm/web/reports...</td>\n",
       "      <td>https://cdprm.vizientinc.com/CDPrm/web/reports...</td>\n",
       "      <td>&amp;medicareid=140211</td>\n",
       "      <td>https://cdprm.vizientinc.com/CDPrm/web/reports...</td>\n",
       "      <td>14997</td>\n",
       "      <td>3112</td>\n",
       "      <td>Efficiency</td>\n",
       "    </tr>\n",
       "    <tr>\n",
       "      <th>4</th>\n",
       "      <td>DCOST_MED</td>\n",
       "      <td>1.10650013964381</td>\n",
       "      <td>0.28151527213975</td>\n",
       "      <td>2</td>\n",
       "      <td>1.95105</td>\n",
       "      <td>1.66953</td>\n",
       "      <td>1.38802</td>\n",
       "      <td>1.1065</td>\n",
       "      <td>0.824985</td>\n",
       "      <td>0.54347</td>\n",
       "      <td>...</td>\n",
       "      <td>1.65205</td>\n",
       "      <td>0</td>\n",
       "      <td>DCOST O/E - Medicine General</td>\n",
       "      <td>https://cdprm.vizientinc.com/CDPrm/web/reports...</td>\n",
       "      <td>https://cdprm.vizientinc.com/CDPrm/web/reports...</td>\n",
       "      <td>&amp;medicareid=140211</td>\n",
       "      <td>https://cdprm.vizientinc.com/CDPrm/web/reports...</td>\n",
       "      <td>14998</td>\n",
       "      <td>3113</td>\n",
       "      <td>Efficiency</td>\n",
       "    </tr>\n",
       "  </tbody>\n",
       "</table>\n",
       "<p>5 rows × 40 columns</p>\n",
       "</div>"
      ],
      "text/plain": [
       "  Keyword/Metric              Mean                SD Transformation       t7  \\\n",
       "0     CLEANQUIET  62.9327412163368  6.42654633351189              1  82.2124   \n",
       "1     DCOST_CARD  1.13007289239593  0.27419450607155              2  1.95266   \n",
       "2       DCOST_CT  1.12317599395296  0.25236747031731              2  1.88028   \n",
       "3   DCOST_GASTRO  1.12441642891766  0.28940466592906              2  1.99263   \n",
       "4      DCOST_MED  1.10650013964381  0.28151527213975              2  1.95105   \n",
       "\n",
       "        t6       t5       t4        t3        t2  ...      P95 shift_value  \\\n",
       "0  75.7858  69.3593  62.9327   56.5062   50.0796  ...  72.9683           0   \n",
       "1  1.67846  1.40427  1.13007  0.855878  0.581684  ...  1.66148           0   \n",
       "2  1.62791  1.37554  1.12318  0.870809  0.618441  ...  1.51745           0   \n",
       "3  1.70323  1.41382  1.12442  0.835012  0.545607  ...  1.71865           0   \n",
       "4  1.66953  1.38802   1.1065  0.824985   0.54347  ...  1.65205           0   \n",
       "\n",
       "                    Formal Name  \\\n",
       "0         Cleanliness/Quietness   \n",
       "1        DCOST O/E - Cardiology   \n",
       "2        DCOST O/E - CT Surgery   \n",
       "3  DCOST O/E - Gastroenterology   \n",
       "4  DCOST O/E - Medicine General   \n",
       "\n",
       "                                     Hyperlink Final  \\\n",
       "0                                               None   \n",
       "1  https://cdprm.vizientinc.com/CDPrm/web/reports...   \n",
       "2  https://cdprm.vizientinc.com/CDPrm/web/reports...   \n",
       "3  https://cdprm.vizientinc.com/CDPrm/web/reports...   \n",
       "4  https://cdprm.vizientinc.com/CDPrm/web/reports...   \n",
       "\n",
       "                                           Hyperlink      Medicare ID =   \\\n",
       "0                                               #N/A                None   \n",
       "1  https://cdprm.vizientinc.com/CDPrm/web/reports...  &medicareid=140211   \n",
       "2  https://cdprm.vizientinc.com/CDPrm/web/reports...  &medicareid=140211   \n",
       "3  https://cdprm.vizientinc.com/CDPrm/web/reports...  &medicareid=140211   \n",
       "4  https://cdprm.vizientinc.com/CDPrm/web/reports...  &medicareid=140211   \n",
       "\n",
       "                                              140211 JobStoreID ReportID  \\\n",
       "0                                               None          0        0   \n",
       "1  https://cdprm.vizientinc.com/CDPrm/web/reports...      14995     3110   \n",
       "2  https://cdprm.vizientinc.com/CDPrm/web/reports...      14996     3111   \n",
       "3  https://cdprm.vizientinc.com/CDPrm/web/reports...      14997     3112   \n",
       "4  https://cdprm.vizientinc.com/CDPrm/web/reports...      14998     3113   \n",
       "\n",
       "                 Domain  \n",
       "0  Patient Centeredness  \n",
       "1            Efficiency  \n",
       "2            Efficiency  \n",
       "3            Efficiency  \n",
       "4            Efficiency  \n",
       "\n",
       "[5 rows x 40 columns]"
      ]
     },
     "execution_count": 126,
     "metadata": {},
     "output_type": "execute_result"
    }
   ],
   "source": [
    "df.head()"
   ]
  },
  {
   "cell_type": "markdown",
   "metadata": {},
   "source": [
    "#### Fill in the hospital name column"
   ]
  },
  {
   "cell_type": "code",
   "execution_count": 127,
   "metadata": {},
   "outputs": [
    {
     "data": {
      "text/plain": [
       "'QACalculator_140211_Period3_2023.xlsm'"
      ]
     },
     "execution_count": 127,
     "metadata": {},
     "output_type": "execute_result"
    }
   ],
   "source": [
    "calc_file"
   ]
  },
  {
   "cell_type": "code",
   "execution_count": 128,
   "metadata": {},
   "outputs": [],
   "source": [
    "if 'Critical_Access' in calc_file:\n",
    "    hospital_query = '''\n",
    "\n",
    "     SELECT\n",
    "     hospital_medicare_id + ' ' + hospital_name as Hospital\n",
    "     FROM\n",
    "     NM_Analytics_Prototype.vizient_qa.hospitals\n",
    "     where\n",
    "     hospital_medicare_id <> '0'\n",
    "     and\n",
    "     hospital_medicare_id = %s\n",
    "    ''' % calc_file.split('_')[3]    \n",
    "else:\n",
    "    hospital_query = '''\n",
    "\n",
    "     SELECT\n",
    "     hospital_medicare_id + ' ' + hospital_name as Hospital\n",
    "     FROM\n",
    "     NM_Analytics_Prototype.vizient_qa.hospitals\n",
    "     where\n",
    "     hospital_medicare_id <> '0'\n",
    "     and\n",
    "     hospital_medicare_id = %s\n",
    "    ''' % calc_file.split('_')[1]\n",
    "\n",
    "\n",
    "#query the db to vizient qa\n",
    "conn = pyodbc.connect('Driver={SQL Server};'\n",
    "                      'Server=edw00pd05wva.corp.nm.org\\EDWIDS1;'\n",
    "                      'Database=clarity;'\n",
    "                     'Trusted_Connection=yes;')\n",
    "\n",
    "#read query results into pandas dataframe\n",
    "hosp_df = pd.DataFrame(pd.read_sql(hospital_query,conn))\n",
    "#close the db connection\n",
    "conn.close()"
   ]
  },
  {
   "cell_type": "code",
   "execution_count": 129,
   "metadata": {},
   "outputs": [
    {
     "data": {
      "text/plain": [
       "'140211 NORTHWESTERN_DELNOR'"
      ]
     },
     "execution_count": 129,
     "metadata": {},
     "output_type": "execute_result"
    }
   ],
   "source": [
    "hosp_df['Hospital'][0]"
   ]
  },
  {
   "cell_type": "code",
   "execution_count": 130,
   "metadata": {},
   "outputs": [],
   "source": [
    "df['Hospital'] = hosp_df['Hospital'][0]"
   ]
  },
  {
   "cell_type": "markdown",
   "metadata": {},
   "source": [
    "#### Fill in the AdjustmentModel column"
   ]
  },
  {
   "cell_type": "code",
   "execution_count": 131,
   "metadata": {},
   "outputs": [
    {
     "data": {
      "text/plain": [
       "'QACalculator_140211_Period3_2023.xlsm'"
      ]
     },
     "execution_count": 131,
     "metadata": {},
     "output_type": "execute_result"
    }
   ],
   "source": [
    "calc_file"
   ]
  },
  {
   "cell_type": "code",
   "execution_count": 132,
   "metadata": {},
   "outputs": [
    {
     "data": {
      "text/html": [
       "<div>\n",
       "<style scoped>\n",
       "    .dataframe tbody tr th:only-of-type {\n",
       "        vertical-align: middle;\n",
       "    }\n",
       "\n",
       "    .dataframe tbody tr th {\n",
       "        vertical-align: top;\n",
       "    }\n",
       "\n",
       "    .dataframe thead th {\n",
       "        text-align: right;\n",
       "    }\n",
       "</style>\n",
       "<table border=\"1\" class=\"dataframe\">\n",
       "  <thead>\n",
       "    <tr style=\"text-align: right;\">\n",
       "      <th></th>\n",
       "      <th>Keyword/Metric</th>\n",
       "      <th>Mean</th>\n",
       "      <th>SD</th>\n",
       "      <th>Transformation</th>\n",
       "      <th>t7</th>\n",
       "      <th>t6</th>\n",
       "      <th>t5</th>\n",
       "      <th>t4</th>\n",
       "      <th>t3</th>\n",
       "      <th>t2</th>\n",
       "      <th>...</th>\n",
       "      <th>shift_value</th>\n",
       "      <th>Formal Name</th>\n",
       "      <th>Hyperlink Final</th>\n",
       "      <th>Hyperlink</th>\n",
       "      <th>Medicare ID =</th>\n",
       "      <th>140211</th>\n",
       "      <th>JobStoreID</th>\n",
       "      <th>ReportID</th>\n",
       "      <th>Domain</th>\n",
       "      <th>Hospital</th>\n",
       "    </tr>\n",
       "  </thead>\n",
       "  <tbody>\n",
       "    <tr>\n",
       "      <th>0</th>\n",
       "      <td>CLEANQUIET</td>\n",
       "      <td>62.9327412163368</td>\n",
       "      <td>6.42654633351189</td>\n",
       "      <td>1</td>\n",
       "      <td>82.2124</td>\n",
       "      <td>75.7858</td>\n",
       "      <td>69.3593</td>\n",
       "      <td>62.9327</td>\n",
       "      <td>56.5062</td>\n",
       "      <td>50.0796</td>\n",
       "      <td>...</td>\n",
       "      <td>0</td>\n",
       "      <td>Cleanliness/Quietness</td>\n",
       "      <td>None</td>\n",
       "      <td>#N/A</td>\n",
       "      <td>None</td>\n",
       "      <td>None</td>\n",
       "      <td>0</td>\n",
       "      <td>0</td>\n",
       "      <td>Patient Centeredness</td>\n",
       "      <td>140211 NORTHWESTERN_DELNOR</td>\n",
       "    </tr>\n",
       "    <tr>\n",
       "      <th>1</th>\n",
       "      <td>DCOST_CARD</td>\n",
       "      <td>1.13007289239593</td>\n",
       "      <td>0.27419450607155</td>\n",
       "      <td>2</td>\n",
       "      <td>1.95266</td>\n",
       "      <td>1.67846</td>\n",
       "      <td>1.40427</td>\n",
       "      <td>1.13007</td>\n",
       "      <td>0.855878</td>\n",
       "      <td>0.581684</td>\n",
       "      <td>...</td>\n",
       "      <td>0</td>\n",
       "      <td>DCOST O/E - Cardiology</td>\n",
       "      <td>https://cdprm.vizientinc.com/CDPrm/web/reports...</td>\n",
       "      <td>https://cdprm.vizientinc.com/CDPrm/web/reports...</td>\n",
       "      <td>&amp;medicareid=140211</td>\n",
       "      <td>https://cdprm.vizientinc.com/CDPrm/web/reports...</td>\n",
       "      <td>14995</td>\n",
       "      <td>3110</td>\n",
       "      <td>Efficiency</td>\n",
       "      <td>140211 NORTHWESTERN_DELNOR</td>\n",
       "    </tr>\n",
       "    <tr>\n",
       "      <th>2</th>\n",
       "      <td>DCOST_CT</td>\n",
       "      <td>1.12317599395296</td>\n",
       "      <td>0.25236747031731</td>\n",
       "      <td>2</td>\n",
       "      <td>1.88028</td>\n",
       "      <td>1.62791</td>\n",
       "      <td>1.37554</td>\n",
       "      <td>1.12318</td>\n",
       "      <td>0.870809</td>\n",
       "      <td>0.618441</td>\n",
       "      <td>...</td>\n",
       "      <td>0</td>\n",
       "      <td>DCOST O/E - CT Surgery</td>\n",
       "      <td>https://cdprm.vizientinc.com/CDPrm/web/reports...</td>\n",
       "      <td>https://cdprm.vizientinc.com/CDPrm/web/reports...</td>\n",
       "      <td>&amp;medicareid=140211</td>\n",
       "      <td>https://cdprm.vizientinc.com/CDPrm/web/reports...</td>\n",
       "      <td>14996</td>\n",
       "      <td>3111</td>\n",
       "      <td>Efficiency</td>\n",
       "      <td>140211 NORTHWESTERN_DELNOR</td>\n",
       "    </tr>\n",
       "    <tr>\n",
       "      <th>3</th>\n",
       "      <td>DCOST_GASTRO</td>\n",
       "      <td>1.12441642891766</td>\n",
       "      <td>0.28940466592906</td>\n",
       "      <td>2</td>\n",
       "      <td>1.99263</td>\n",
       "      <td>1.70323</td>\n",
       "      <td>1.41382</td>\n",
       "      <td>1.12442</td>\n",
       "      <td>0.835012</td>\n",
       "      <td>0.545607</td>\n",
       "      <td>...</td>\n",
       "      <td>0</td>\n",
       "      <td>DCOST O/E - Gastroenterology</td>\n",
       "      <td>https://cdprm.vizientinc.com/CDPrm/web/reports...</td>\n",
       "      <td>https://cdprm.vizientinc.com/CDPrm/web/reports...</td>\n",
       "      <td>&amp;medicareid=140211</td>\n",
       "      <td>https://cdprm.vizientinc.com/CDPrm/web/reports...</td>\n",
       "      <td>14997</td>\n",
       "      <td>3112</td>\n",
       "      <td>Efficiency</td>\n",
       "      <td>140211 NORTHWESTERN_DELNOR</td>\n",
       "    </tr>\n",
       "    <tr>\n",
       "      <th>4</th>\n",
       "      <td>DCOST_MED</td>\n",
       "      <td>1.10650013964381</td>\n",
       "      <td>0.28151527213975</td>\n",
       "      <td>2</td>\n",
       "      <td>1.95105</td>\n",
       "      <td>1.66953</td>\n",
       "      <td>1.38802</td>\n",
       "      <td>1.1065</td>\n",
       "      <td>0.824985</td>\n",
       "      <td>0.54347</td>\n",
       "      <td>...</td>\n",
       "      <td>0</td>\n",
       "      <td>DCOST O/E - Medicine General</td>\n",
       "      <td>https://cdprm.vizientinc.com/CDPrm/web/reports...</td>\n",
       "      <td>https://cdprm.vizientinc.com/CDPrm/web/reports...</td>\n",
       "      <td>&amp;medicareid=140211</td>\n",
       "      <td>https://cdprm.vizientinc.com/CDPrm/web/reports...</td>\n",
       "      <td>14998</td>\n",
       "      <td>3113</td>\n",
       "      <td>Efficiency</td>\n",
       "      <td>140211 NORTHWESTERN_DELNOR</td>\n",
       "    </tr>\n",
       "  </tbody>\n",
       "</table>\n",
       "<p>5 rows × 41 columns</p>\n",
       "</div>"
      ],
      "text/plain": [
       "  Keyword/Metric              Mean                SD Transformation       t7  \\\n",
       "0     CLEANQUIET  62.9327412163368  6.42654633351189              1  82.2124   \n",
       "1     DCOST_CARD  1.13007289239593  0.27419450607155              2  1.95266   \n",
       "2       DCOST_CT  1.12317599395296  0.25236747031731              2  1.88028   \n",
       "3   DCOST_GASTRO  1.12441642891766  0.28940466592906              2  1.99263   \n",
       "4      DCOST_MED  1.10650013964381  0.28151527213975              2  1.95105   \n",
       "\n",
       "        t6       t5       t4        t3        t2  ... shift_value  \\\n",
       "0  75.7858  69.3593  62.9327   56.5062   50.0796  ...           0   \n",
       "1  1.67846  1.40427  1.13007  0.855878  0.581684  ...           0   \n",
       "2  1.62791  1.37554  1.12318  0.870809  0.618441  ...           0   \n",
       "3  1.70323  1.41382  1.12442  0.835012  0.545607  ...           0   \n",
       "4  1.66953  1.38802   1.1065  0.824985   0.54347  ...           0   \n",
       "\n",
       "                    Formal Name  \\\n",
       "0         Cleanliness/Quietness   \n",
       "1        DCOST O/E - Cardiology   \n",
       "2        DCOST O/E - CT Surgery   \n",
       "3  DCOST O/E - Gastroenterology   \n",
       "4  DCOST O/E - Medicine General   \n",
       "\n",
       "                                     Hyperlink Final  \\\n",
       "0                                               None   \n",
       "1  https://cdprm.vizientinc.com/CDPrm/web/reports...   \n",
       "2  https://cdprm.vizientinc.com/CDPrm/web/reports...   \n",
       "3  https://cdprm.vizientinc.com/CDPrm/web/reports...   \n",
       "4  https://cdprm.vizientinc.com/CDPrm/web/reports...   \n",
       "\n",
       "                                           Hyperlink      Medicare ID =   \\\n",
       "0                                               #N/A                None   \n",
       "1  https://cdprm.vizientinc.com/CDPrm/web/reports...  &medicareid=140211   \n",
       "2  https://cdprm.vizientinc.com/CDPrm/web/reports...  &medicareid=140211   \n",
       "3  https://cdprm.vizientinc.com/CDPrm/web/reports...  &medicareid=140211   \n",
       "4  https://cdprm.vizientinc.com/CDPrm/web/reports...  &medicareid=140211   \n",
       "\n",
       "                                              140211 JobStoreID ReportID  \\\n",
       "0                                               None          0        0   \n",
       "1  https://cdprm.vizientinc.com/CDPrm/web/reports...      14995     3110   \n",
       "2  https://cdprm.vizientinc.com/CDPrm/web/reports...      14996     3111   \n",
       "3  https://cdprm.vizientinc.com/CDPrm/web/reports...      14997     3112   \n",
       "4  https://cdprm.vizientinc.com/CDPrm/web/reports...      14998     3113   \n",
       "\n",
       "                 Domain                    Hospital  \n",
       "0  Patient Centeredness  140211 NORTHWESTERN_DELNOR  \n",
       "1            Efficiency  140211 NORTHWESTERN_DELNOR  \n",
       "2            Efficiency  140211 NORTHWESTERN_DELNOR  \n",
       "3            Efficiency  140211 NORTHWESTERN_DELNOR  \n",
       "4            Efficiency  140211 NORTHWESTERN_DELNOR  \n",
       "\n",
       "[5 rows x 41 columns]"
      ]
     },
     "execution_count": 132,
     "metadata": {},
     "output_type": "execute_result"
    }
   ],
   "source": [
    "df.head()"
   ]
  },
  {
   "cell_type": "code",
   "execution_count": 133,
   "metadata": {},
   "outputs": [],
   "source": [
    "#assigning the adjustment model variable\n",
    "if (hosp_df['Hospital'][0] in ['140281 NORTHWESTERN_MEMORIAL','140242 NORTHWESTERN_CDH']) and ('_2019.xlsm' in calc_file):\n",
    "    adjustmentModel = '2018 Risk Model (AMC)'\n",
    "elif hosp_df['Hospital'][0] in ['140130 NORTHWESTERN_LAKEFOREST','140211 NORTHWESTERN_DELNOR','140286 NORTHWESTERN_KISH','141340 NORTHWESTERN_VALLEYW'] and ('_2019.xlsm' in calc_file):\n",
    "    adjustmentModel = '2018 Risk Model (Community)'\n",
    "if (hosp_df['Hospital'][0] in ['140281 NORTHWESTERN_MEMORIAL','140242 NORTHWESTERN_CDH']) and ('_2020.xlsm' in calc_file):\n",
    "    adjustmentModel = '2019 Risk Model (AMC)'\n",
    "elif hosp_df['Hospital'][0] in ['140130 NORTHWESTERN_LAKEFOREST','140211 NORTHWESTERN_DELNOR','140286 NORTHWESTERN_KISH','141340 NORTHWESTERN_VALLEYW'] and ('_2020.xlsm' in calc_file):\n",
    "    adjustmentModel = '2019 Risk Model (Community)'\n",
    "    \n",
    "if (hosp_df['Hospital'][0] in ['140281 NORTHWESTERN_MEMORIAL','140242 NORTHWESTERN_CDH']) and ('_2021.xlsm' in calc_file):\n",
    "    adjustmentModel = '2020 Risk Model (AMC)'\n",
    "elif hosp_df['Hospital'][0] in ['140130 NORTHWESTERN_LAKEFOREST','140211 NORTHWESTERN_DELNOR','140286 NORTHWESTERN_KISH','141340 NORTHWESTERN_VALLEYW','141340 Valley West Community Hospital','149916 NORTHWESTERN_HUNTLEY','140116 NORTHWESTERN_MCHENRY'] and ('_2021.xlsm' in calc_file):\n",
    "    adjustmentModel = '2020 Risk Model (Community) '\n",
    "    \n",
    "if (hosp_df['Hospital'][0] in ['140281 NORTHWESTERN_MEMORIAL','140242 NORTHWESTERN_CDH']) and ('_2022.xlsm' in calc_file):\n",
    "    adjustmentModel = '2021 Risk Model (AMC)'\n",
    "elif hosp_df['Hospital'][0] in ['140130 NORTHWESTERN_LAKEFOREST','140211 NORTHWESTERN_DELNOR','140286 NORTHWESTERN_KISH','141340 NORTHWESTERN_VALLEYW','141340 Valley West Community Hospital','149916 NORTHWESTERN_HUNTLEY','140116 NORTHWESTERN_MCHENRY', '140062 NORTHWESTERN_PALOS','141340 VALLEY_WEST_COMMUNITY_HOSPITAL'] and ('_2022.xlsm' in calc_file):\n",
    "    adjustmentModel = '2021 Risk Model (Community) '\n",
    "    \n",
    "if (hosp_df['Hospital'][0] in ['140281 NORTHWESTERN_MEMORIAL','140242 NORTHWESTERN_CDH','140062 NORTHWESTERN_PALOS']) and ('_2023.xlsm' in calc_file):\n",
    "    adjustmentModel = '2022 Risk Model (AMC)'\n",
    "elif hosp_df['Hospital'][0] in ['140130 NORTHWESTERN_LAKEFOREST','140211 NORTHWESTERN_DELNOR','140286 NORTHWESTERN_KISH','141340 NORTHWESTERN_VALLEYW','141340 Valley West Community Hospital','149916 NORTHWESTERN_HUNTLEY','140116 NORTHWESTERN_MCHENRY' ,'141340 VALLEY_WEST_COMMUNITY_HOSPITAL'] and ('_2023.xlsm' in calc_file):\n",
    "    adjustmentModel = '2022 Risk Model (Community)'"
   ]
  },
  {
   "cell_type": "code",
   "execution_count": 134,
   "metadata": {},
   "outputs": [],
   "source": [
    "#assigning ahrq version variable\n",
    "if (hosp_df['Hospital'][0] in ['140281 NORTHWESTERN_MEMORIAL','140242 NORTHWESTERN_CDH']) and ('_2019.xlsm' in calc_file):\n",
    "    ahrq_version = '8.0 (CMS Safety)'\n",
    "elif hosp_df['Hospital'][0] in ['140130 NORTHWESTERN_LAKEFOREST','140211 NORTHWESTERN_DELNOR','140286 NORTHWESTERN_KISH','141340 NORTHWESTERN_VALLEYW'] and ('_2019.xlsm' in calc_file):\n",
    "    ahrq_version = '8.0 (CMS Safety)'\n",
    "if (hosp_df['Hospital'][0] in ['140281 NORTHWESTERN_MEMORIAL','140242 NORTHWESTERN_CDH']) and ('_2020.xlsm' in calc_file):\n",
    "    ahrq_version = 'V2019 (Pediatric) / V2019 (Quality) / V2019 (Safety)'\n",
    "elif hosp_df['Hospital'][0] in ['140130 NORTHWESTERN_LAKEFOREST','140211 NORTHWESTERN_DELNOR','140286 NORTHWESTERN_KISH','141340 NORTHWESTERN_VALLEYW'] and ('_2020.xlsm' in calc_file):\n",
    "    ahrq_version = 'V2019 (Pediatric) / V2019 (Quality) / V2019 (Safety)'\n",
    "    \n",
    "if (hosp_df['Hospital'][0] in ['140281 NORTHWESTERN_MEMORIAL','140242 NORTHWESTERN_CDH']) and ('_2021.xlsm' in calc_file):\n",
    "    ahrq_version = 'V2020 (Pediatric) / V2020 (Quality) / V2020 (Safety)'\n",
    "elif hosp_df['Hospital'][0] in ['140130 NORTHWESTERN_LAKEFOREST','140211 NORTHWESTERN_DELNOR','140286 NORTHWESTERN_KISH','141340 Valley West Community Hospital','141340 NORTHWESTERN_VALLEYW','149916 NORTHWESTERN_HUNTLEY','140116 NORTHWESTERN_MCHENRY'] and ('_2021.xlsm' in calc_file):\n",
    "    ahrq_version = 'V2020 (Pediatric) / V2020 (Quality) / V2020 (Safety)'\n",
    "    \n",
    "\n",
    "if (hosp_df['Hospital'][0] in ['140281 NORTHWESTERN_MEMORIAL','140242 NORTHWESTERN_CDH']) and ('_2022.xlsm' in calc_file):\n",
    "    ahrq_version = 'V2021 (Pediatric) / V2021 (Quality) / V2021 (Safety)'\n",
    "elif hosp_df['Hospital'][0] in ['140130 NORTHWESTERN_LAKEFOREST','140211 NORTHWESTERN_DELNOR','140286 NORTHWESTERN_KISH','141340 Valley West Community Hospital','141340 NORTHWESTERN_VALLEYW','149916 NORTHWESTERN_HUNTLEY','140116 NORTHWESTERN_MCHENRY','140062 NORTHWESTERN_PALOS','141340 VALLEY_WEST_COMMUNITY_HOSPITAL'] and ('_2022.xlsm' in calc_file):\n",
    "    ahrq_version = 'V2021 (Pediatric) / V2021 (Quality) / V2021 (Safety)' \n",
    "    \n",
    "if (hosp_df['Hospital'][0] in ['140281 NORTHWESTERN_MEMORIAL','140242 NORTHWESTERN_CDH','140062 NORTHWESTERN_PALOS']) and ('_2023.xlsm' in calc_file):\n",
    "    ahrq_version = 'V2022'\n",
    "elif hosp_df['Hospital'][0] in ['140130 NORTHWESTERN_LAKEFOREST','140211 NORTHWESTERN_DELNOR','140286 NORTHWESTERN_KISH','141340 Valley West Community Hospital','141340 NORTHWESTERN_VALLEYW','149916 NORTHWESTERN_HUNTLEY','140116 NORTHWESTERN_MCHENRY','141340 VALLEY_WEST_COMMUNITY_HOSPITAL'] and ('_2023.xlsm' in calc_file):\n",
    "    ahrq_version = 'V2022' "
   ]
  },
  {
   "cell_type": "code",
   "execution_count": 135,
   "metadata": {},
   "outputs": [],
   "source": [
    "df['AdjustmentModel'] = adjustmentModel"
   ]
  },
  {
   "cell_type": "code",
   "execution_count": 136,
   "metadata": {},
   "outputs": [],
   "source": [
    "df['AHRQ Version'] = ahrq_version"
   ]
  },
  {
   "cell_type": "code",
   "execution_count": 137,
   "metadata": {},
   "outputs": [],
   "source": [
    "df = df[['Hospital','Keyword/Metric','Mean','SD','Transformation','metric_direction','shift_value','Formal Name','Hyperlink','JobStoreID','ReportID','AdjustmentModel','AHRQ Version','Domain']]"
   ]
  },
  {
   "cell_type": "markdown",
   "metadata": {},
   "source": [
    "### Write the output to excel file"
   ]
  },
  {
   "cell_type": "code",
   "execution_count": 138,
   "metadata": {},
   "outputs": [
    {
     "data": {
      "text/html": [
       "<div>\n",
       "<style scoped>\n",
       "    .dataframe tbody tr th:only-of-type {\n",
       "        vertical-align: middle;\n",
       "    }\n",
       "\n",
       "    .dataframe tbody tr th {\n",
       "        vertical-align: top;\n",
       "    }\n",
       "\n",
       "    .dataframe thead th {\n",
       "        text-align: right;\n",
       "    }\n",
       "</style>\n",
       "<table border=\"1\" class=\"dataframe\">\n",
       "  <thead>\n",
       "    <tr style=\"text-align: right;\">\n",
       "      <th></th>\n",
       "      <th>Hospital</th>\n",
       "      <th>Keyword/Metric</th>\n",
       "      <th>Mean</th>\n",
       "      <th>SD</th>\n",
       "      <th>Transformation</th>\n",
       "      <th>metric_direction</th>\n",
       "      <th>shift_value</th>\n",
       "      <th>Formal Name</th>\n",
       "      <th>Hyperlink</th>\n",
       "      <th>JobStoreID</th>\n",
       "      <th>ReportID</th>\n",
       "      <th>AdjustmentModel</th>\n",
       "      <th>AHRQ Version</th>\n",
       "      <th>Domain</th>\n",
       "    </tr>\n",
       "  </thead>\n",
       "  <tbody>\n",
       "    <tr>\n",
       "      <th>0</th>\n",
       "      <td>140211 NORTHWESTERN_DELNOR</td>\n",
       "      <td>CLEANQUIET</td>\n",
       "      <td>62.9327412163368</td>\n",
       "      <td>6.42654633351189</td>\n",
       "      <td>1</td>\n",
       "      <td>Higher</td>\n",
       "      <td>0</td>\n",
       "      <td>Cleanliness/Quietness</td>\n",
       "      <td>#N/A</td>\n",
       "      <td>0</td>\n",
       "      <td>0</td>\n",
       "      <td>2022 Risk Model (Community)</td>\n",
       "      <td>V2022</td>\n",
       "      <td>Patient Centeredness</td>\n",
       "    </tr>\n",
       "    <tr>\n",
       "      <th>1</th>\n",
       "      <td>140211 NORTHWESTERN_DELNOR</td>\n",
       "      <td>DCOST_CARD</td>\n",
       "      <td>1.13007289239593</td>\n",
       "      <td>0.27419450607155</td>\n",
       "      <td>2</td>\n",
       "      <td>Lower</td>\n",
       "      <td>0</td>\n",
       "      <td>DCOST O/E - Cardiology</td>\n",
       "      <td>https://cdprm.vizientinc.com/CDPrm/web/reports...</td>\n",
       "      <td>14995</td>\n",
       "      <td>3110</td>\n",
       "      <td>2022 Risk Model (Community)</td>\n",
       "      <td>V2022</td>\n",
       "      <td>Efficiency</td>\n",
       "    </tr>\n",
       "    <tr>\n",
       "      <th>2</th>\n",
       "      <td>140211 NORTHWESTERN_DELNOR</td>\n",
       "      <td>DCOST_CT</td>\n",
       "      <td>1.12317599395296</td>\n",
       "      <td>0.25236747031731</td>\n",
       "      <td>2</td>\n",
       "      <td>Lower</td>\n",
       "      <td>0</td>\n",
       "      <td>DCOST O/E - CT Surgery</td>\n",
       "      <td>https://cdprm.vizientinc.com/CDPrm/web/reports...</td>\n",
       "      <td>14996</td>\n",
       "      <td>3111</td>\n",
       "      <td>2022 Risk Model (Community)</td>\n",
       "      <td>V2022</td>\n",
       "      <td>Efficiency</td>\n",
       "    </tr>\n",
       "    <tr>\n",
       "      <th>3</th>\n",
       "      <td>140211 NORTHWESTERN_DELNOR</td>\n",
       "      <td>DCOST_GASTRO</td>\n",
       "      <td>1.12441642891766</td>\n",
       "      <td>0.28940466592906</td>\n",
       "      <td>2</td>\n",
       "      <td>Lower</td>\n",
       "      <td>0</td>\n",
       "      <td>DCOST O/E - Gastroenterology</td>\n",
       "      <td>https://cdprm.vizientinc.com/CDPrm/web/reports...</td>\n",
       "      <td>14997</td>\n",
       "      <td>3112</td>\n",
       "      <td>2022 Risk Model (Community)</td>\n",
       "      <td>V2022</td>\n",
       "      <td>Efficiency</td>\n",
       "    </tr>\n",
       "    <tr>\n",
       "      <th>4</th>\n",
       "      <td>140211 NORTHWESTERN_DELNOR</td>\n",
       "      <td>DCOST_MED</td>\n",
       "      <td>1.10650013964381</td>\n",
       "      <td>0.28151527213975</td>\n",
       "      <td>2</td>\n",
       "      <td>Lower</td>\n",
       "      <td>0</td>\n",
       "      <td>DCOST O/E - Medicine General</td>\n",
       "      <td>https://cdprm.vizientinc.com/CDPrm/web/reports...</td>\n",
       "      <td>14998</td>\n",
       "      <td>3113</td>\n",
       "      <td>2022 Risk Model (Community)</td>\n",
       "      <td>V2022</td>\n",
       "      <td>Efficiency</td>\n",
       "    </tr>\n",
       "  </tbody>\n",
       "</table>\n",
       "</div>"
      ],
      "text/plain": [
       "                     Hospital Keyword/Metric              Mean  \\\n",
       "0  140211 NORTHWESTERN_DELNOR     CLEANQUIET  62.9327412163368   \n",
       "1  140211 NORTHWESTERN_DELNOR     DCOST_CARD  1.13007289239593   \n",
       "2  140211 NORTHWESTERN_DELNOR       DCOST_CT  1.12317599395296   \n",
       "3  140211 NORTHWESTERN_DELNOR   DCOST_GASTRO  1.12441642891766   \n",
       "4  140211 NORTHWESTERN_DELNOR      DCOST_MED  1.10650013964381   \n",
       "\n",
       "                 SD Transformation metric_direction shift_value  \\\n",
       "0  6.42654633351189              1           Higher           0   \n",
       "1  0.27419450607155              2            Lower           0   \n",
       "2  0.25236747031731              2            Lower           0   \n",
       "3  0.28940466592906              2            Lower           0   \n",
       "4  0.28151527213975              2            Lower           0   \n",
       "\n",
       "                    Formal Name  \\\n",
       "0         Cleanliness/Quietness   \n",
       "1        DCOST O/E - Cardiology   \n",
       "2        DCOST O/E - CT Surgery   \n",
       "3  DCOST O/E - Gastroenterology   \n",
       "4  DCOST O/E - Medicine General   \n",
       "\n",
       "                                           Hyperlink JobStoreID ReportID  \\\n",
       "0                                               #N/A          0        0   \n",
       "1  https://cdprm.vizientinc.com/CDPrm/web/reports...      14995     3110   \n",
       "2  https://cdprm.vizientinc.com/CDPrm/web/reports...      14996     3111   \n",
       "3  https://cdprm.vizientinc.com/CDPrm/web/reports...      14997     3112   \n",
       "4  https://cdprm.vizientinc.com/CDPrm/web/reports...      14998     3113   \n",
       "\n",
       "               AdjustmentModel AHRQ Version                Domain  \n",
       "0  2022 Risk Model (Community)        V2022  Patient Centeredness  \n",
       "1  2022 Risk Model (Community)        V2022            Efficiency  \n",
       "2  2022 Risk Model (Community)        V2022            Efficiency  \n",
       "3  2022 Risk Model (Community)        V2022            Efficiency  \n",
       "4  2022 Risk Model (Community)        V2022            Efficiency  "
      ]
     },
     "execution_count": 138,
     "metadata": {},
     "output_type": "execute_result"
    }
   ],
   "source": [
    "df.head()"
   ]
  },
  {
   "cell_type": "code",
   "execution_count": 139,
   "metadata": {},
   "outputs": [],
   "source": [
    "#drop all rows that do not have at least 6 columns populated.  There are 6 columns that will definitely be populated,\n",
    "#so we want at least 7\n",
    "df = df.dropna(thresh=7)"
   ]
  },
  {
   "cell_type": "code",
   "execution_count": 140,
   "metadata": {},
   "outputs": [
    {
     "data": {
      "text/plain": [
       "'QACalculator_140211_Period3_2023.xlsm'"
      ]
     },
     "execution_count": 140,
     "metadata": {},
     "output_type": "execute_result"
    }
   ],
   "source": [
    "calc_file"
   ]
  },
  {
   "cell_type": "code",
   "execution_count": 141,
   "metadata": {},
   "outputs": [],
   "source": [
    "#set the file path\n",
    "output_file_path = r'P:\\Datastore02\\Analytics\\230 Inpatient Quality Composite\\data\\hyperlink data\\2023\\period3_template_hyperlinks'\n",
    "#set the file name\n",
    "if '140281' in calc_file:\n",
    "    output_file_name = 'nmh_links.xlsx'\n",
    "elif '140242' in calc_file:\n",
    "    output_file_name = 'cdh_links.xlsx'\n",
    "elif '140130' in calc_file:\n",
    "    output_file_name = 'lfh_links.xlsx'\n",
    "elif '140211' in calc_file:\n",
    "    output_file_name = 'dch_links.xlsx'\n",
    "elif '140286' in calc_file:\n",
    "    output_file_name = 'kish_links.xlsx'\n",
    "elif '141340' in calc_file:\n",
    "    output_file_name = 'vwh_links.xlsx'\n",
    "elif '149916' in calc_file:\n",
    "    output_file_name = 'hh_links.xlsx'\n",
    "elif '140116' in calc_file:\n",
    "    output_file_name = 'mch_links.xlsx'\n",
    "elif '140062' in calc_file:\n",
    "    output_file_name = 'palos_links.xlsx'\n",
    "#output_file_name = r'mch_links.xlsx'\n",
    "file_loc_output = os.path.abspath(os.path.join(output_file_path,output_file_name))"
   ]
  },
  {
   "cell_type": "code",
   "execution_count": 142,
   "metadata": {},
   "outputs": [
    {
     "data": {
      "text/plain": [
       "'P:\\\\Datastore02\\\\Analytics\\\\230 Inpatient Quality Composite\\\\data\\\\hyperlink data\\\\2023\\\\period3_template_hyperlinks\\\\dch_links.xlsx'"
      ]
     },
     "execution_count": 142,
     "metadata": {},
     "output_type": "execute_result"
    }
   ],
   "source": [
    "file_loc_output"
   ]
  },
  {
   "cell_type": "code",
   "execution_count": 143,
   "metadata": {},
   "outputs": [],
   "source": [
    "#remove link to report express since it is not helpful to our CDB scraper.\n",
    "df.loc[df[\"Hyperlink\"] == \"https://cdprm.vizientinc.com/CDPrm/web/reports/ReportExpress.aspx\", \"Hyperlink\"] = None"
   ]
  },
  {
   "cell_type": "code",
   "execution_count": 144,
   "metadata": {},
   "outputs": [],
   "source": [
    "#write to excel file\n",
    "df.to_excel(file_loc_output,sheet_name='Sheet1',index_label=False,index=False)"
   ]
  },
  {
   "cell_type": "markdown",
   "metadata": {
    "collapsed": true
   },
   "source": [
    "### Community Cohort Section:  This should be the same as the Complex Care Medical Center cohort.  Just change the hospital name to a community hospital so it will create a distinct lookup dictionary"
   ]
  },
  {
   "cell_type": "code",
   "execution_count": 84,
   "metadata": {},
   "outputs": [
    {
     "data": {
      "text/plain": [
       "'CriticalAccessQACalculator_141340_Period1_2023.xlsm'"
      ]
     },
     "execution_count": 84,
     "metadata": {},
     "output_type": "execute_result"
    }
   ],
   "source": [
    "calc_file"
   ]
  },
  {
   "cell_type": "code",
   "execution_count": 488,
   "metadata": {},
   "outputs": [
    {
     "ename": "NameError",
     "evalue": "name 'filename' is not defined",
     "output_type": "error",
     "traceback": [
      "\u001b[1;31m---------------------------------------------------------------------------\u001b[0m",
      "\u001b[1;31mNameError\u001b[0m                                 Traceback (most recent call last)",
      "\u001b[1;32m<ipython-input-488-908330578e68>\u001b[0m in \u001b[0;36m<module>\u001b[1;34m\u001b[0m\n\u001b[0;32m      5\u001b[0m \u001b[1;33m\u001b[0m\u001b[0m\n\u001b[0;32m      6\u001b[0m \u001b[1;31m#filename = 'mch_links.xlsx'\u001b[0m\u001b[1;33m\u001b[0m\u001b[1;33m\u001b[0m\u001b[1;33m\u001b[0m\u001b[0m\n\u001b[1;32m----> 7\u001b[1;33m \u001b[0mcomm_df\u001b[0m \u001b[1;33m=\u001b[0m \u001b[0mpd\u001b[0m\u001b[1;33m.\u001b[0m\u001b[0mread_excel\u001b[0m\u001b[1;33m(\u001b[0m\u001b[0mos\u001b[0m\u001b[1;33m.\u001b[0m\u001b[0mpath\u001b[0m\u001b[1;33m.\u001b[0m\u001b[0mjoin\u001b[0m\u001b[1;33m(\u001b[0m\u001b[0mfilepath\u001b[0m\u001b[1;33m,\u001b[0m\u001b[0mfilename\u001b[0m\u001b[1;33m)\u001b[0m\u001b[1;33m,\u001b[0m\u001b[0msheets\u001b[0m \u001b[1;33m=\u001b[0m \u001b[1;34m'Sheet1'\u001b[0m\u001b[1;33m)\u001b[0m\u001b[1;33m\u001b[0m\u001b[1;33m\u001b[0m\u001b[0m\n\u001b[0m",
      "\u001b[1;31mNameError\u001b[0m: name 'filename' is not defined"
     ]
    }
   ],
   "source": [
    "# read in Lake forest hyperlink file.\n",
    "filepath = r'P:\\Datastore02\\Analytics\\230 Inpatient Quality Composite\\data\\hyperlink data\\2023\\period1_template_hyperlinks'\n",
    "\n",
    "\n",
    "    \n",
    "#filename = 'mch_links.xlsx'\n",
    "comm_df = pd.read_excel(os.path.join(filepath,filename),sheets = 'Sheet1')"
   ]
  },
  {
   "cell_type": "code",
   "execution_count": null,
   "metadata": {},
   "outputs": [],
   "source": [
    "comm_df.head(n=3)"
   ]
  },
  {
   "cell_type": "code",
   "execution_count": null,
   "metadata": {},
   "outputs": [],
   "source": [
    "comm_df['Hospital'] = '149810 NORTHSHORE_GLENVIEW'"
   ]
  },
  {
   "cell_type": "code",
   "execution_count": null,
   "metadata": {},
   "outputs": [],
   "source": []
  },
  {
   "cell_type": "markdown",
   "metadata": {},
   "source": [
    "### Output the community cohort file"
   ]
  },
  {
   "cell_type": "code",
   "execution_count": 85,
   "metadata": {},
   "outputs": [
    {
     "ename": "NameError",
     "evalue": "name 'comm_df' is not defined",
     "output_type": "error",
     "traceback": [
      "\u001b[1;31m---------------------------------------------------------------------------\u001b[0m",
      "\u001b[1;31mNameError\u001b[0m                                 Traceback (most recent call last)",
      "\u001b[1;32m<ipython-input-85-0748b2e50932>\u001b[0m in \u001b[0;36m<module>\u001b[1;34m\u001b[0m\n\u001b[0;32m      2\u001b[0m \u001b[0mfile_loc_output\u001b[0m \u001b[1;33m=\u001b[0m \u001b[0mos\u001b[0m\u001b[1;33m.\u001b[0m\u001b[0mpath\u001b[0m\u001b[1;33m.\u001b[0m\u001b[0mabspath\u001b[0m\u001b[1;33m(\u001b[0m\u001b[0mos\u001b[0m\u001b[1;33m.\u001b[0m\u001b[0mpath\u001b[0m\u001b[1;33m.\u001b[0m\u001b[0mjoin\u001b[0m\u001b[1;33m(\u001b[0m\u001b[0moutput_file_path\u001b[0m\u001b[1;33m,\u001b[0m\u001b[0moutput_file_name\u001b[0m\u001b[1;33m)\u001b[0m\u001b[1;33m)\u001b[0m\u001b[1;33m\u001b[0m\u001b[1;33m\u001b[0m\u001b[0m\n\u001b[0;32m      3\u001b[0m \u001b[1;31m#write to excel file\u001b[0m\u001b[1;33m\u001b[0m\u001b[1;33m\u001b[0m\u001b[1;33m\u001b[0m\u001b[0m\n\u001b[1;32m----> 4\u001b[1;33m \u001b[0mcomm_df\u001b[0m\u001b[1;33m.\u001b[0m\u001b[0mto_excel\u001b[0m\u001b[1;33m(\u001b[0m\u001b[0mfile_loc_output\u001b[0m\u001b[1;33m,\u001b[0m\u001b[0msheet_name\u001b[0m\u001b[1;33m=\u001b[0m\u001b[1;34m'Sheet1'\u001b[0m\u001b[1;33m,\u001b[0m\u001b[0mindex_label\u001b[0m\u001b[1;33m=\u001b[0m\u001b[1;32mFalse\u001b[0m\u001b[1;33m,\u001b[0m\u001b[0mindex\u001b[0m\u001b[1;33m=\u001b[0m\u001b[1;32mFalse\u001b[0m\u001b[1;33m)\u001b[0m\u001b[1;33m\u001b[0m\u001b[1;33m\u001b[0m\u001b[0m\n\u001b[0m",
      "\u001b[1;31mNameError\u001b[0m: name 'comm_df' is not defined"
     ]
    }
   ],
   "source": [
    "output_file_name = r'vwh_links.xlsx'\n",
    "file_loc_output = os.path.abspath(os.path.join(output_file_path,output_file_name))\n",
    "#write to excel file\n",
    "comm_df.to_excel(file_loc_output,sheet_name='Sheet1',index_label=False,index=False)"
   ]
  },
  {
   "cell_type": "code",
   "execution_count": null,
   "metadata": {},
   "outputs": [],
   "source": []
  }
 ],
 "metadata": {
  "anaconda-cloud": {},
  "kernelspec": {
   "display_name": "py36env",
   "language": "python",
   "name": "py36env"
  },
  "language_info": {
   "codemirror_mode": {
    "name": "ipython",
    "version": 3
   },
   "file_extension": ".py",
   "mimetype": "text/x-python",
   "name": "python",
   "nbconvert_exporter": "python",
   "pygments_lexer": "ipython3",
   "version": "3.6.13"
  }
 },
 "nbformat": 4,
 "nbformat_minor": 2
}

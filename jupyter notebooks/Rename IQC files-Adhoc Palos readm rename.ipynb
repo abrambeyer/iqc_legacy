{
 "cells": [
  {
   "cell_type": "markdown",
   "metadata": {},
   "source": [
    "### This helper script is used to rename IQC cdb report files.  \n",
    "\n",
    "### Why am I doing this?  Because many of the AMC & LSCCMC files are identical.  There is no need to run/download them for each cohort since the same report holds all Vizient member hospitals in the output.  Also, the CCMC and Community files are identical in many cases.  Since the Python Selenium bot requires many hours to run/download all these reports, sometimes I will just run the reports for AMC & CCMC only.  Then, copy the AMC files and rename them LSCCMC.  Same thing for CCMC and Community.  Just download CCMC, copy the CCMC files and rename them as Community.  \n",
    "\n",
    "### This is true because the AMC & LSCCMC cohorts both use the same risk model (AMC).  The CCMC and Community cohorts both use the same risk model (Community).  "
   ]
  },
  {
   "cell_type": "code",
   "execution_count": 4,
   "metadata": {},
   "outputs": [],
   "source": [
    "import os"
   ]
  },
  {
   "cell_type": "code",
   "execution_count": 20,
   "metadata": {},
   "outputs": [],
   "source": [
    "#assign filepath to iqc cdb report folder we want to rename.  Start at the 'Vizient Q&A Files' director.\n",
    "filepath = r'P:\\Datastore02\\Analytics\\230 Inpatient Quality Composite\\data\\fy22 scraped cdb data\\period_3_palos_reports\\Vizient Q&A Files\\readm_edac'"
   ]
  },
  {
   "cell_type": "code",
   "execution_count": 6,
   "metadata": {},
   "outputs": [
    {
     "data": {
      "text/plain": [
       "'P:\\\\Datastore02\\\\Analytics\\\\230 Inpatient Quality Composite\\\\data\\\\fy22 scraped cdb data\\\\period_3_palos_reports\\\\Vizient Q&A Files\\\\readm_edac'"
      ]
     },
     "execution_count": 6,
     "metadata": {},
     "output_type": "execute_result"
    }
   ],
   "source": [
    "filepath"
   ]
  },
  {
   "cell_type": "code",
   "execution_count": 21,
   "metadata": {},
   "outputs": [],
   "source": [
    "#rename AMC to LSCCMC\n",
    "cohort_files_to_rename = 'Large Specialized Complex Care Medical Center'\n",
    "prefix_to_rename = 'READM'\n",
    "#rename CCMC to COMM\n",
    "#cohort_files_to_rename = 'Community Medical Center'\n",
    "#prefix_to_rename = 'COMM'"
   ]
  },
  {
   "cell_type": "code",
   "execution_count": 22,
   "metadata": {},
   "outputs": [
    {
     "name": "stdout",
     "output_type": "stream",
     "text": [
      "LSCCMC_EDAC_CARD_QUARTER.xlsx\n",
      "['LSCCMC', 'EDAC', 'CARD', 'QUARTER.xlsx']\n",
      "P:\\Datastore02\\Analytics\\230 Inpatient Quality Composite\\data\\fy22 scraped cdb data\\period_3_palos_reports\\Vizient Q&A Files\\readm_edac\\Large Specialized Complex Care Medical Center\\READM_CARD\\LSCCMC_EDAC_CARD_QUARTER.xlsx\n",
      "LSCCMC_EDAC_CT_QUARTER.xlsx\n",
      "['LSCCMC', 'EDAC', 'CT', 'QUARTER.xlsx']\n",
      "P:\\Datastore02\\Analytics\\230 Inpatient Quality Composite\\data\\fy22 scraped cdb data\\period_3_palos_reports\\Vizient Q&A Files\\readm_edac\\Large Specialized Complex Care Medical Center\\READM_CT\\LSCCMC_EDAC_CT_QUARTER.xlsx\n",
      "LSCCMC_EDAC_GASTRO_QUARTER.xlsx\n",
      "['LSCCMC', 'EDAC', 'GASTRO', 'QUARTER.xlsx']\n",
      "P:\\Datastore02\\Analytics\\230 Inpatient Quality Composite\\data\\fy22 scraped cdb data\\period_3_palos_reports\\Vizient Q&A Files\\readm_edac\\Large Specialized Complex Care Medical Center\\READM_GASTRO\\LSCCMC_EDAC_GASTRO_QUARTER.xlsx\n",
      "LSCCMC_EDAC_MED_QUARTER.xlsx\n",
      "['LSCCMC', 'EDAC', 'MED', 'QUARTER.xlsx']\n",
      "P:\\Datastore02\\Analytics\\230 Inpatient Quality Composite\\data\\fy22 scraped cdb data\\period_3_palos_reports\\Vizient Q&A Files\\readm_edac\\Large Specialized Complex Care Medical Center\\READM_MED\\LSCCMC_EDAC_MED_QUARTER.xlsx\n",
      "LSCCMC_EDAC_NEURO_QUARTER.xlsx\n",
      "['LSCCMC', 'EDAC', 'NEURO', 'QUARTER.xlsx']\n",
      "P:\\Datastore02\\Analytics\\230 Inpatient Quality Composite\\data\\fy22 scraped cdb data\\period_3_palos_reports\\Vizient Q&A Files\\readm_edac\\Large Specialized Complex Care Medical Center\\READM_NEURO\\LSCCMC_EDAC_NEURO_QUARTER.xlsx\n",
      "LSCCMC_EDAC_NSURG_QUARTER.xlsx\n",
      "['LSCCMC', 'EDAC', 'NSURG', 'QUARTER.xlsx']\n",
      "P:\\Datastore02\\Analytics\\230 Inpatient Quality Composite\\data\\fy22 scraped cdb data\\period_3_palos_reports\\Vizient Q&A Files\\readm_edac\\Large Specialized Complex Care Medical Center\\READM_NSURG\\LSCCMC_EDAC_NSURG_QUARTER.xlsx\n",
      "LSCCMC_EDAC_ONC_QUARTER.xlsx\n",
      "['LSCCMC', 'EDAC', 'ONC', 'QUARTER.xlsx']\n",
      "P:\\Datastore02\\Analytics\\230 Inpatient Quality Composite\\data\\fy22 scraped cdb data\\period_3_palos_reports\\Vizient Q&A Files\\readm_edac\\Large Specialized Complex Care Medical Center\\READM_ONC\\LSCCMC_EDAC_ONC_QUARTER.xlsx\n",
      "LSCCMC_EDAC_ORTHO_QUARTER.xlsx\n",
      "['LSCCMC', 'EDAC', 'ORTHO', 'QUARTER.xlsx']\n",
      "P:\\Datastore02\\Analytics\\230 Inpatient Quality Composite\\data\\fy22 scraped cdb data\\period_3_palos_reports\\Vizient Q&A Files\\readm_edac\\Large Specialized Complex Care Medical Center\\READM_ORTHO\\LSCCMC_EDAC_ORTHO_QUARTER.xlsx\n",
      "LSCCMC_EDAC_PULM_QUARTER.xlsx\n",
      "['LSCCMC', 'EDAC', 'PULM', 'QUARTER.xlsx']\n",
      "P:\\Datastore02\\Analytics\\230 Inpatient Quality Composite\\data\\fy22 scraped cdb data\\period_3_palos_reports\\Vizient Q&A Files\\readm_edac\\Large Specialized Complex Care Medical Center\\READM_PULM\\LSCCMC_EDAC_PULM_QUARTER.xlsx\n",
      "LSCCMC_EDAC_SGEN_QUARTER.xlsx\n",
      "['LSCCMC', 'EDAC', 'SGEN', 'QUARTER.xlsx']\n",
      "P:\\Datastore02\\Analytics\\230 Inpatient Quality Composite\\data\\fy22 scraped cdb data\\period_3_palos_reports\\Vizient Q&A Files\\readm_edac\\Large Specialized Complex Care Medical Center\\READM_SGEN\\LSCCMC_EDAC_SGEN_QUARTER.xlsx\n"
     ]
    }
   ],
   "source": [
    "for i, item in enumerate(os.listdir(filepath)):\n",
    "    if item == cohort_files_to_rename:\n",
    "        for j, item2 in enumerate(os.listdir(os.path.join(filepath,item))):\n",
    "            for k, item3 in enumerate(os.listdir(os.path.join(filepath,item,item2))):\n",
    "                print(item3)\n",
    "                new_file_name_list = item3.split('_')[0:]\n",
    "                print(new_file_name_list)\n",
    "                new_file_name_list.pop(1)\n",
    "                new_file_name_list.insert(1,prefix_to_rename)\n",
    "                new_file_name = '_'.join(new_file_name_list)\n",
    "                print(os.path.join(filepath,item,item2,item3))\n",
    "                #print(new_file_name)\n",
    "                os.rename(os.path.join(filepath,item,item2,item3),os.path.join(filepath,item,item2,new_file_name))"
   ]
  },
  {
   "cell_type": "code",
   "execution_count": null,
   "metadata": {},
   "outputs": [],
   "source": []
  }
 ],
 "metadata": {
  "kernelspec": {
   "display_name": "py36env",
   "language": "python",
   "name": "py36env"
  },
  "language_info": {
   "codemirror_mode": {
    "name": "ipython",
    "version": 3
   },
   "file_extension": ".py",
   "mimetype": "text/x-python",
   "name": "python",
   "nbconvert_exporter": "python",
   "pygments_lexer": "ipython3",
   "version": "3.6.13"
  }
 },
 "nbformat": 4,
 "nbformat_minor": 4
}
